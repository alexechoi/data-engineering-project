{
  "cells": [
    {
      "cell_type": "markdown",
      "metadata": {
        "id": "OA2K2uATdWkW"
      },
      "source": [
        "# Run Uber Pipeline\n",
        "\n",
        "This notebook provides the capability to run and demo some of our pipeline.\n",
        "\n",
        "Most of our pipeline is hosted within Amazon Web Services and therefore this notebook provides and insight to the data nodes within our pipeline. However, the latter part of this notebook shows how we can pull data from PostgreSQL, join some of the tables, convert to parquet and run some queries too."
      ]
    },
    {
      "cell_type": "markdown",
      "metadata": {
        "id": "B2OT6YnWdWkY"
      },
      "source": [
        "# Start pipeline\n",
        "\n",
        "The first part of our pipeline starts on an EC2 instance where we collect data from various APIs and also via webscraping. This data is collected locally into EC2 before being pushed to Amazon S3. We created a custom API to receive instructions to start the pipeline. In the rare case this does not work, the pipeline is likely already running so please do continue to view the other items."
      ]
    },
    {
      "cell_type": "code",
      "execution_count": 1,
      "metadata": {
        "colab": {
          "base_uri": "https://localhost:8080/"
        },
        "id": "hkPz-WZGdWkY",
        "outputId": "022494d0-c510-495c-c005-9c8a8e9f6869"
      },
      "outputs": [
        {
          "output_type": "stream",
          "name": "stdout",
          "text": [
            "b'{\\n  \"message\": \"Scheduler started\",\\n  \"status\": \"success\"\\n}\\n'\n"
          ]
        }
      ],
      "source": [
        "import requests\n",
        "\n",
        "# Set up the API Gateway endpoint URL\n",
        "url = '***REMOVED***'\n",
        "response = requests.get(url)\n",
        "\n",
        "# Print the response from the API\n",
        "print(response.content)"
      ]
    },
    {
      "cell_type": "markdown",
      "metadata": {
        "id": "u4cZzqAwdWkZ"
      },
      "source": [
        "# Preview S3\n",
        "In the below code you are able to connect to our S3 bucket and preview the files available in our S3 bucket:"
      ]
    },
    {
      "cell_type": "code",
      "source": [
        "!pip install boto3"
      ],
      "metadata": {
        "colab": {
          "base_uri": "https://localhost:8080/"
        },
        "id": "ygVFshhLdoK3",
        "outputId": "8fc3ade6-9124-4979-a9e1-32ffb13c4cfe"
      },
      "execution_count": 2,
      "outputs": [
        {
          "output_type": "stream",
          "name": "stdout",
          "text": [
            "Looking in indexes: https://pypi.org/simple, https://us-python.pkg.dev/colab-wheels/public/simple/\n",
            "Collecting boto3\n",
            "  Downloading boto3-1.26.97-py3-none-any.whl (135 kB)\n",
            "\u001b[2K     \u001b[90m━━━━━━━━━━━━━━━━━━━━━━━━━━━━━━━━━━━━━━━\u001b[0m \u001b[32m135.5/135.5 KB\u001b[0m \u001b[31m1.9 MB/s\u001b[0m eta \u001b[36m0:00:00\u001b[0m\n",
            "\u001b[?25hCollecting jmespath<2.0.0,>=0.7.1\n",
            "  Downloading jmespath-1.0.1-py3-none-any.whl (20 kB)\n",
            "Collecting botocore<1.30.0,>=1.29.97\n",
            "  Downloading botocore-1.29.97-py3-none-any.whl (10.5 MB)\n",
            "\u001b[2K     \u001b[90m━━━━━━━━━━━━━━━━━━━━━━━━━━━━━━━━━━━━━━━━\u001b[0m \u001b[32m10.5/10.5 MB\u001b[0m \u001b[31m19.7 MB/s\u001b[0m eta \u001b[36m0:00:00\u001b[0m\n",
            "\u001b[?25hCollecting s3transfer<0.7.0,>=0.6.0\n",
            "  Downloading s3transfer-0.6.0-py3-none-any.whl (79 kB)\n",
            "\u001b[2K     \u001b[90m━━━━━━━━━━━━━━━━━━━━━━━━━━━━━━━━━━━━━━━━\u001b[0m \u001b[32m79.6/79.6 KB\u001b[0m \u001b[31m4.5 MB/s\u001b[0m eta \u001b[36m0:00:00\u001b[0m\n",
            "\u001b[?25hRequirement already satisfied: urllib3<1.27,>=1.25.4 in /usr/local/lib/python3.9/dist-packages (from botocore<1.30.0,>=1.29.97->boto3) (1.26.15)\n",
            "Requirement already satisfied: python-dateutil<3.0.0,>=2.1 in /usr/local/lib/python3.9/dist-packages (from botocore<1.30.0,>=1.29.97->boto3) (2.8.2)\n",
            "Requirement already satisfied: six>=1.5 in /usr/local/lib/python3.9/dist-packages (from python-dateutil<3.0.0,>=2.1->botocore<1.30.0,>=1.29.97->boto3) (1.16.0)\n",
            "Installing collected packages: jmespath, botocore, s3transfer, boto3\n",
            "Successfully installed boto3-1.26.97 botocore-1.29.97 jmespath-1.0.1 s3transfer-0.6.0\n"
          ]
        }
      ]
    },
    {
      "cell_type": "code",
      "execution_count": 3,
      "metadata": {
        "colab": {
          "base_uri": "https://localhost:8080/"
        },
        "id": "kTTZ-5S0dWkZ",
        "outputId": "32b3cf58-619e-4c48-d6e4-88944d8c912d"
      },
      "outputs": [
        {
          "output_type": "stream",
          "name": "stdout",
          "text": [
            "coordinates_hotel.json\n",
            "coordinates_train.json\n",
            "hotels.json\n",
            "routes.json\n",
            "train.json\n",
            "tweets.json\n",
            "uber.json\n",
            "weather.json\n"
          ]
        }
      ],
      "source": [
        "import boto3\n",
        "\n",
        "# Replace \"my-bucket-name\" with the name of your S3 bucket\n",
        "bucket_name = \"***REMOVED***\"\n",
        "\n",
        "# AWS credentials\n",
        "access_key = \"***REMOVED***\"\n",
        "secret_key = \"***REMOVED***\"\n",
        "\n",
        "s3 = boto3.client(\n",
        "    \"s3\",\n",
        "    aws_access_key_id=access_key,\n",
        "    aws_secret_access_key=secret_key,\n",
        ")\n",
        "\n",
        "# List all the objects in the bucket\n",
        "response = s3.list_objects_v2(Bucket=bucket_name)\n",
        "\n",
        "# Print the names of all the files in the bucket\n",
        "for obj in response.get(\"Contents\", []):\n",
        "    print(obj[\"Key\"])"
      ]
    },
    {
      "cell_type": "markdown",
      "metadata": {
        "id": "zLok2VTGdWka"
      },
      "source": [
        "# Preview MongoDB\n",
        "Our pipeline contains a Lambda function triggered by AWS CloudWatch which runs every hour. This transfers the S3 files into several Mongo collections. Below you can preview the Mongo data and also some of the records in each collection."
      ]
    },
    {
      "cell_type": "code",
      "execution_count": 4,
      "metadata": {
        "id": "JsfIHWlFdWka"
      },
      "outputs": [],
      "source": [
        "# first install PyMongo to allow access to MongoDB\n",
        "%%capture\n",
        "!pip install pymongo ; "
      ]
    },
    {
      "cell_type": "code",
      "execution_count": 5,
      "metadata": {
        "scrolled": true,
        "colab": {
          "base_uri": "https://localhost:8080/"
        },
        "id": "xioL8rNXdWka",
        "outputId": "aa0e518b-031e-4728-fb1f-3c9379a498c8"
      },
      "outputs": [
        {
          "output_type": "stream",
          "name": "stdout",
          "text": [
            "Collections in group_db:\n",
            "coordinates_hotel\n",
            "train\n",
            "tweets\n",
            "routes\n",
            "uber\n",
            "coordinates_train\n",
            "hotels\n",
            "weather\n"
          ]
        }
      ],
      "source": [
        "import pymongo\n",
        "\n",
        "# set up the MongoDB connection\n",
        "client = pymongo.MongoClient(\"***REMOVED***\")\n",
        "db = client[\"group_db\"]\n",
        "\n",
        "# retrieve the list of collections in the database\n",
        "collection_list = db.list_collection_names()\n",
        "\n",
        "# print the collection names\n",
        "print(\"Collections in group_db:\")\n",
        "for collection_name in collection_list:\n",
        "    print(collection_name)"
      ]
    },
    {
      "cell_type": "markdown",
      "metadata": {
        "id": "-7nket_tdWka"
      },
      "source": [
        "Verify two entries in each collection:"
      ]
    },
    {
      "cell_type": "code",
      "execution_count": 6,
      "metadata": {
        "scrolled": true,
        "colab": {
          "base_uri": "https://localhost:8080/"
        },
        "id": "XjqdTA65dWka",
        "outputId": "9bbd7888-1b7d-4364-a1d3-695a60559ec7"
      },
      "outputs": [
        {
          "output_type": "stream",
          "name": "stdout",
          "text": [
            "\n",
            "First 2 entries in coordinates_hotel:\n",
            "{'_id': ObjectId('641aefc10d7ca1afc2f9a021'), 'latitude': 51.5145337, 'longitude': -0.1595389, 'name': 'Citadines Trafalgar Square'}\n",
            "{'_id': ObjectId('641aefc10d7ca1afc2f9a022'), 'latitude': 51.5145337, 'longitude': -0.1595389, 'name': 'The Guardsman - Preferred Hotels and Resorts'}\n",
            "\n",
            "First 2 entries in train:\n",
            "{'_id': ObjectId('641af064d3eea542f229dfd7'), 'Waterloo Station': {'latitude': 51.5031653, 'longitude': -0.1123051}, 'Paddington Station': {'latitude': 51.5166744, 'longitude': -0.1769328}, \"King's Cross St. Pancras Station\": {'latitude': 51.53154079999999, 'longitude': -0.1252147}, 'Liverpool Street Station': {'latitude': 51.51875159999999, 'longitude': -0.0814374}, 'Fenchurch Street Station': {'latitude': 51.5117156, 'longitude': -0.0790676}, 'London Bridge Station': {'latitude': 51.5042625, 'longitude': -0.0848024}, 'Victoria Station': {'latitude': 51.4952103, 'longitude': -0.1438979}}\n",
            "{'_id': ObjectId('641b3d1dd3eea542f229dfdc'), 'Waterloo Station': {'latitude': 51.5031653, 'longitude': -0.1123051}, 'Paddington Station': {'latitude': 51.5166744, 'longitude': -0.1769328}, \"King's Cross St. Pancras Station\": {'latitude': 51.53154079999999, 'longitude': -0.1252147}, 'Liverpool Street Station': {'latitude': 51.51875159999999, 'longitude': -0.0814374}, 'Fenchurch Street Station': {'latitude': 51.5117156, 'longitude': -0.0790676}, 'London Bridge Station': {'latitude': 51.5042625, 'longitude': -0.0848024}, 'Victoria Station': {'latitude': 51.4952103, 'longitude': -0.1438979}}\n",
            "\n",
            "First 2 entries in tweets:\n",
            "{'_id': ObjectId('641aefa00d7ca1afc2f99e89'), 'edit_history_tweet_ids': ['1634683992162091009'], 'id': '1634683992162091009', 'text': 'RT @frankiecjones: @British_Airways our flight from Heathrow to Geneva was delayed by 4 hrs, meaning we missed our transfer and have to pay…'}\n",
            "{'_id': ObjectId('641aefa00d7ca1afc2f99e8a'), 'edit_history_tweet_ids': ['1634683735609163777'], 'id': '1634683735609163777', 'text': '@British_Airways our flight from Heathrow to Geneva was delayed by 4 hrs, meaning we missed our transfer and have to pay for a 3 hour Uber to the resort. Then we get off the plane to find out our baggage is still in London. No one knows when it will be delivered. Care to explain?'}\n",
            "\n",
            "First 2 entries in routes:\n",
            "{'_id': ObjectId('641aefb00d7ca1afc2f99f4f'), 'route_id': '1', 'start_coordinate': {'latitude': 51.5031653, 'longitude': -0.1123051}, 'end_coordinate': {'latitude': 51.5145337, 'longitude': -0.1595389}}\n",
            "{'_id': ObjectId('641aefb00d7ca1afc2f99f50'), 'route_id': '2', 'start_coordinate': {'latitude': 51.5031653, 'longitude': -0.1123051}, 'end_coordinate': {'latitude': 51.5145337, 'longitude': -0.1595389}}\n",
            "\n",
            "First 2 entries in uber:\n",
            "{'_id': ObjectId('641aefa20d7ca1afc2f99e9d'), 'timestamp': 1679238105, 'readable_timestamp': '2023-03-19 15:01:45', 'origin_latitude': 51.503, 'origin_longitude': 0.0032, 'destination_latitude': 51.4974948, 'destination_longitude': -0.1356583, 'prices': [['Lux', '£65-72'], ['UberX', '£24-27'], ['Exec', '£43-47'], ['UberXL', '£36-40'], ['Assist', '£24-27'], ['Access', '£24-27'], ['Comfort', '£29-32'], ['Green', '£24-27'], ['Uber Pet', '£29-32'], ['Uber for Ukraine', '£25-28']]}\n",
            "{'_id': ObjectId('641aefa20d7ca1afc2f99e9e'), 'timestamp': 1679238491, 'readable_timestamp': '2023-03-19 15:08:11', 'origin_latitude': 51.5031653, 'origin_longitude': -0.1123051, 'destination_latitude': 51.5145337, 'destination_longitude': -0.1595389, 'prices': [['Lux', '£40-44'], ['UberX', '£16-17'], ['Exec', '£27-30'], ['UberXL', '£23-25'], ['Assist', '£16-17'], ['Access', '£16-17'], ['Comfort', '£19-21'], ['Green', '£16-17'], ['Uber Pet', '£21-23'], ['Uber for Ukraine', '£17-18']]}\n",
            "\n",
            "First 2 entries in coordinates_train:\n",
            "{'_id': ObjectId('641aefc30d7ca1afc2f9a03f'), 'latitude': 51.5031653, 'longitude': -0.1123051, 'name': 'Waterloo Station'}\n",
            "{'_id': ObjectId('641aefc30d7ca1afc2f9a040'), 'latitude': 51.5166744, 'longitude': -0.1769328, 'name': 'Paddington Station'}\n",
            "\n",
            "First 2 entries in hotels:\n",
            "{'_id': ObjectId('641aef9d0d7ca1afc2f99e65'), 'name': 'DoubleTree by Hilton Hotel London - Tower of London', 'location': 'City of London, London'}\n",
            "{'_id': ObjectId('641aef9d0d7ca1afc2f99e66'), 'name': 'Stayo Kew Gardens', 'location': 'Kew'}\n",
            "\n",
            "First 2 entries in weather:\n",
            "{'_id': ObjectId('641aefa20d7ca1afc2f99ea0'), 'longitude': -0.1123, 'latitude': 51.5032, 'weather_id': 803, 'weather_main': 'Clouds', 'weather_desc': 'broken clouds', 'temperature': 10.91, 'feels_like': 9.75, 'clouds': 75, 'dt': 1679237755, 'id': 2634341}\n",
            "{'_id': ObjectId('641aefa20d7ca1afc2f99ea1'), 'longitude': -0.1123, 'latitude': 51.5032, 'weather_id': 803, 'weather_main': 'Clouds', 'weather_desc': 'broken clouds', 'temperature': 10.91, 'feels_like': 9.75, 'clouds': 75, 'dt': 1679237755, 'id': 6545250}\n"
          ]
        }
      ],
      "source": [
        "# retrieve the list of collections in the database\n",
        "collection_list = db.list_collection_names()\n",
        "\n",
        "# print the first 2 entries of every collection\n",
        "for collection_name in collection_list:\n",
        "    collection = db[collection_name]\n",
        "    print(f\"\\nFirst 2 entries in {collection_name}:\")\n",
        "    for entry in collection.find().limit(2):\n",
        "        print(entry)"
      ]
    },
    {
      "cell_type": "markdown",
      "metadata": {
        "id": "Drn5jXhGdWkb"
      },
      "source": [
        "# Preview PostgreSQL\n",
        "We have a PostgreSQL database hosted on AWS Relational Database Service. This is setup in a schema as pictured below. Below you can preview some of the tables and also run some example queries."
      ]
    },
    {
      "cell_type": "code",
      "execution_count": 7,
      "metadata": {
        "scrolled": true,
        "colab": {
          "base_uri": "https://localhost:8080/"
        },
        "id": "c4HgsS6mdWkb",
        "outputId": "b69fdffb-b25c-403b-d384-b7631c328a94"
      },
      "outputs": [
        {
          "output_type": "stream",
          "name": "stdout",
          "text": [
            "uber_price\n",
            "weather_conditions\n",
            "weather_location\n",
            "weather_main\n",
            "tweets\n",
            "tweet_metadata\n",
            "train_stations\n",
            "hotel_info\n",
            "hotel_location\n",
            "routes\n",
            "uber_ride\n"
          ]
        }
      ],
      "source": [
        "import psycopg2\n",
        "\n",
        "postgres_connection = \"***REMOVED***\"\n",
        "\n",
        "# Replace \"postgres_connection\" with your PostgreSQL connection string\n",
        "conn = psycopg2.connect(postgres_connection)\n",
        "\n",
        "# Create a cursor object\n",
        "cur = conn.cursor()\n",
        "\n",
        "# Query the database for all table names\n",
        "cur.execute(\"SELECT table_name FROM information_schema.tables WHERE table_schema = 'public'\")\n",
        "\n",
        "# Print the names of all tables in the database\n",
        "for table in cur.fetchall():\n",
        "    print(table[0])\n"
      ]
    },
    {
      "cell_type": "markdown",
      "metadata": {
        "id": "XYlU0-CUdWkb"
      },
      "source": [
        "# Extract from PostgreSQL using Spark\n",
        "Below we are going to setup Spark and extract data from Postgres into Spark dataframes"
      ]
    },
    {
      "cell_type": "code",
      "execution_count": 8,
      "metadata": {
        "id": "IGoY0nC0dWkb"
      },
      "outputs": [],
      "source": [
        "# remove old spark installations if needed\n",
        "%%capture\n",
        "!rm -dr spark* -qq > /dev/null\n",
        "\n",
        "# check versions\n",
        "%env SPARK_VERSION=spark-3.3.2\n",
        "# %env HADOOP_VERSION=2.7\n",
        "%env HADOOP_VERSION=3\n",
        "!echo $SPARK_VERSION\n",
        "\n",
        "!sudo apt-get install openjdk-8-jdk-headless -qq > /dev/null\n",
        "!wget -q https://downloads.apache.org/spark/$SPARK_VERSION/$SPARK_VERSION-bin-hadoop$HADOOP_VERSION.tgz -qq > /dev/null\n",
        "!tar xf $SPARK_VERSION-bin-hadoop$HADOOP_VERSION.tgz -qq > /dev/null\n",
        "\n",
        "!pip install -q findspark > /dev/null ;\n",
        "!pip install pyspark > /dev/null ; \n",
        "\n",
        "!echo $SPARK_VERSION\n",
        "%env JAVA_HOME=/usr/lib/jvm/java-8-openjdk-amd64\n",
        "\n",
        "!java -version\n",
        "!python --version\n",
        "\n",
        "!wget https://jdbc.postgresql.org/download/postgresql-42.3.2.jar"
      ]
    },
    {
      "cell_type": "code",
      "source": [
        "import os\n",
        "import tarfile\n",
        "\n",
        "spark_tgz_path = \"spark-3.3.2-bin-hadoop3.tgz\"\n",
        "spark_extraction_path = \"\" \n",
        "\n",
        "# Extract the .tgz file\n",
        "with tarfile.open(spark_tgz_path, \"r:gz\") as tar:\n",
        "    tar.extractall(path=spark_extraction_path)\n",
        "\n",
        "# Set SPARK_HOME environment variable\n",
        "spark_home_path = os.path.join(spark_extraction_path, \"spark-3.3.2-bin-hadoop3\")\n",
        "os.environ[\"SPARK_HOME\"] = spark_home_path\n",
        "\n",
        "import findspark\n",
        "findspark.init()\n",
        "\n",
        "from pprint import pprint\n"
      ],
      "metadata": {
        "id": "AuM0XDWDfGcO"
      },
      "execution_count": 9,
      "outputs": []
    },
    {
      "cell_type": "code",
      "execution_count": 10,
      "metadata": {
        "colab": {
          "base_uri": "https://localhost:8080/",
          "height": 221
        },
        "id": "ly2FgueydWkc",
        "outputId": "cafaf96a-dea7-4249-f680-423417c11a11"
      },
      "outputs": [
        {
          "output_type": "execute_result",
          "data": {
            "text/plain": [
              "<pyspark.sql.session.SparkSession at 0x7f8d06ee42b0>"
            ],
            "text/html": [
              "\n",
              "            <div>\n",
              "                <p><b>SparkSession - in-memory</b></p>\n",
              "                \n",
              "        <div>\n",
              "            <p><b>SparkContext</b></p>\n",
              "\n",
              "            <p><a href=\"http://b05e21b72cc8:4040\">Spark UI</a></p>\n",
              "\n",
              "            <dl>\n",
              "              <dt>Version</dt>\n",
              "                <dd><code>v3.3.2</code></dd>\n",
              "              <dt>Master</dt>\n",
              "                <dd><code>local[*]</code></dd>\n",
              "              <dt>AppName</dt>\n",
              "                <dd><code>SparkWithPostgres</code></dd>\n",
              "            </dl>\n",
              "        </div>\n",
              "        \n",
              "            </div>\n",
              "        "
            ]
          },
          "metadata": {},
          "execution_count": 10
        }
      ],
      "source": [
        "from pyspark.sql import SparkSession\n",
        "spark = SparkSession.builder.appName('SparkWithPostgres')\\\n",
        "        .config(\"spark.driver.extraClassPath\", \"postgresql-42.3.2.jar\")\\\n",
        "        .getOrCreate()\n",
        "\n",
        "spark"
      ]
    },
    {
      "cell_type": "code",
      "execution_count": 11,
      "metadata": {
        "colab": {
          "base_uri": "https://localhost:8080/"
        },
        "id": "cRRaDTsZdWkc",
        "outputId": "3a53229e-b5c3-4029-9256-db3e6d5d3cd5"
      },
      "outputs": [
        {
          "output_type": "stream",
          "name": "stderr",
          "text": [
            "/usr/local/lib/python3.9/dist-packages/pandas/io/sql.py:762: UserWarning: pandas only support SQLAlchemy connectable(engine/connection) ordatabase string URI or sqlite3 DBAPI2 connectionother DBAPI2 objects are not tested, please consider using SQLAlchemy\n",
            "  warnings.warn(\n",
            "/usr/local/lib/python3.9/dist-packages/pandas/io/sql.py:762: UserWarning: pandas only support SQLAlchemy connectable(engine/connection) ordatabase string URI or sqlite3 DBAPI2 connectionother DBAPI2 objects are not tested, please consider using SQLAlchemy\n",
            "  warnings.warn(\n",
            "/usr/local/lib/python3.9/dist-packages/pandas/io/sql.py:762: UserWarning: pandas only support SQLAlchemy connectable(engine/connection) ordatabase string URI or sqlite3 DBAPI2 connectionother DBAPI2 objects are not tested, please consider using SQLAlchemy\n",
            "  warnings.warn(\n",
            "/usr/local/lib/python3.9/dist-packages/pandas/io/sql.py:762: UserWarning: pandas only support SQLAlchemy connectable(engine/connection) ordatabase string URI or sqlite3 DBAPI2 connectionother DBAPI2 objects are not tested, please consider using SQLAlchemy\n",
            "  warnings.warn(\n",
            "/usr/local/lib/python3.9/dist-packages/pandas/io/sql.py:762: UserWarning: pandas only support SQLAlchemy connectable(engine/connection) ordatabase string URI or sqlite3 DBAPI2 connectionother DBAPI2 objects are not tested, please consider using SQLAlchemy\n",
            "  warnings.warn(\n",
            "/usr/local/lib/python3.9/dist-packages/pandas/io/sql.py:762: UserWarning: pandas only support SQLAlchemy connectable(engine/connection) ordatabase string URI or sqlite3 DBAPI2 connectionother DBAPI2 objects are not tested, please consider using SQLAlchemy\n",
            "  warnings.warn(\n",
            "/usr/local/lib/python3.9/dist-packages/pandas/io/sql.py:762: UserWarning: pandas only support SQLAlchemy connectable(engine/connection) ordatabase string URI or sqlite3 DBAPI2 connectionother DBAPI2 objects are not tested, please consider using SQLAlchemy\n",
            "  warnings.warn(\n",
            "/usr/local/lib/python3.9/dist-packages/pandas/io/sql.py:762: UserWarning: pandas only support SQLAlchemy connectable(engine/connection) ordatabase string URI or sqlite3 DBAPI2 connectionother DBAPI2 objects are not tested, please consider using SQLAlchemy\n",
            "  warnings.warn(\n",
            "/usr/local/lib/python3.9/dist-packages/pandas/io/sql.py:762: UserWarning: pandas only support SQLAlchemy connectable(engine/connection) ordatabase string URI or sqlite3 DBAPI2 connectionother DBAPI2 objects are not tested, please consider using SQLAlchemy\n",
            "  warnings.warn(\n",
            "/usr/local/lib/python3.9/dist-packages/pandas/io/sql.py:762: UserWarning: pandas only support SQLAlchemy connectable(engine/connection) ordatabase string URI or sqlite3 DBAPI2 connectionother DBAPI2 objects are not tested, please consider using SQLAlchemy\n",
            "  warnings.warn(\n",
            "/usr/local/lib/python3.9/dist-packages/pandas/io/sql.py:762: UserWarning: pandas only support SQLAlchemy connectable(engine/connection) ordatabase string URI or sqlite3 DBAPI2 connectionother DBAPI2 objects are not tested, please consider using SQLAlchemy\n",
            "  warnings.warn(\n"
          ]
        },
        {
          "output_type": "stream",
          "name": "stdout",
          "text": [
            "Table: uber_price\n",
            "   id  ride_id             x           green         assist           access  \\\n",
            "0   1        1          None            None           None             None   \n",
            "1   2        2  {Lux,£39-43}  {UberX,£16-17}  {Exec,£27-29}  {UberXL,£23-25}   \n",
            "2   3        3  {Lux,£40-44}  {UberX,£16-17}  {Exec,£27-30}  {UberXL,£23-25}   \n",
            "3   4        4  {Lux,£39-43}  {UberX,£16-17}  {Exec,£27-29}  {UberXL,£23-25}   \n",
            "4   5        5  {Lux,£40-44}  {UberX,£16-17}  {Exec,£27-30}  {UberXL,£23-25}   \n",
            "\n",
            "               pet          comfort                xl            exec  \\\n",
            "0             None             None              None            None   \n",
            "1  {Assist,£16-17}  {Access,£16-17}  {Comfort,£19-21}  {Green,£16-17}   \n",
            "2  {Assist,£16-17}  {Access,£16-17}  {Comfort,£19-21}  {Green,£16-17}   \n",
            "3  {Assist,£16-17}  {Access,£16-17}  {Comfort,£19-21}  {Green,£16-17}   \n",
            "4  {Assist,£16-17}  {Access,£16-17}  {Comfort,£19-21}  {Green,£16-17}   \n",
            "\n",
            "                   lux  \n",
            "0                 None  \n",
            "1  {\"Uber Pet\",£21-23}  \n",
            "2  {\"Uber Pet\",£21-23}  \n",
            "3  {\"Uber Pet\",£21-23}  \n",
            "4  {\"Uber Pet\",£21-23}  \n",
            "Table: weather_conditions\n",
            "    id  temperature  feels_like  clouds\n",
            "0  803        10.91        9.75      75\n",
            "Table: weather_location\n",
            "        id  location_id  main_id  condition_id                  dt\n",
            "0  2634341           10      803           803 2023-03-22 15:14:21\n",
            "1  2640692           13      803           803 2023-03-22 15:13:19\n",
            "2  3345437           15      803           803 2023-03-22 15:13:19\n",
            "3  2637221           16      803           803 2023-03-22 15:14:21\n",
            "4  2643744      2643744      803           803 2023-03-22 15:09:42\n",
            "Table: weather_main\n",
            "    id    main           desc\n",
            "0  803  Clouds  broken clouds\n",
            "Table: tweets\n",
            "   id                                               text  \\\n",
            "0   1  RT @frankiecjones: @British_Airways our flight...   \n",
            "1   2  @British_Airways our flight from Heathrow to G...   \n",
            "2   3  I can use a blue badge anywhere in the U.K. EX...   \n",
            "3   4  Opening BRT lane for private investors is a gr...   \n",
            "4   5  Took a new route home today \\nTried out a new ...   \n",
            "\n",
            "  edit_history_tweet_ids  \n",
            "0                   None  \n",
            "1                   None  \n",
            "2                   None  \n",
            "3                   None  \n",
            "4                   None  \n",
            "Table: tweet_metadata\n",
            "   id newest_id oldest_id  result_count  tweet_id\n",
            "0   1      None      None             1         1\n",
            "1   2      None      None             1         2\n",
            "2   3      None      None             1         3\n",
            "3   4      None      None             1         4\n",
            "4   5      None      None             1         5\n",
            "Table: train_stations\n",
            "   id                              name        lat      long\n",
            "0   1                  Waterloo Station  51.503165 -0.112305\n",
            "1   2                Paddington Station  51.516674 -0.176933\n",
            "2   3  King's Cross St. Pancras Station  51.531541 -0.125215\n",
            "3   4          Liverpool Street Station  51.518752 -0.081437\n",
            "4   5          Fenchurch Street Station  51.511716 -0.079068\n",
            "Table: hotel_info\n",
            "   id                                               name  \\\n",
            "0   1  DoubleTree by Hilton Hotel London - Tower of L...   \n",
            "1   2                                  Stayo Kew Gardens   \n",
            "2   3                                              BENQi   \n",
            "3   4                                             Studio   \n",
            "4   5                                  The Resident Soho   \n",
            "\n",
            "                    neighbourhood  \n",
            "0          City of London, London  \n",
            "1                             Kew  \n",
            "2  Kensington and Chelsea, London  \n",
            "3                        Stanmore  \n",
            "4     Westminster Borough, London  \n",
            "Table: hotel_location\n",
            "   id  hotel_id  lat  long\n",
            "0   1         1  NaN   NaN\n",
            "1   2         2  NaN   NaN\n",
            "2   3         3  NaN   NaN\n",
            "3   4         4  NaN   NaN\n",
            "4   5         5  NaN   NaN\n",
            "Table: routes\n",
            "   id  start_location_id  end_location_id\n",
            "0   1                  1                2\n",
            "1   2                  1                2\n",
            "2   3                  1                2\n",
            "3   4                  1                3\n",
            "4   5                  1                3\n",
            "Table: uber_ride\n",
            "     id  route_id          time_stamp\n",
            "0  1282        20 2023-03-19 15:08:11\n",
            "1     2        20 2023-03-19 15:13:04\n",
            "2     3        20 2023-03-19 15:08:11\n",
            "3     4        20 2023-03-19 15:13:04\n",
            "4     5        20 2023-03-19 15:08:11\n"
          ]
        },
        {
          "output_type": "stream",
          "name": "stderr",
          "text": [
            "/usr/local/lib/python3.9/dist-packages/pandas/io/sql.py:762: UserWarning: pandas only support SQLAlchemy connectable(engine/connection) ordatabase string URI or sqlite3 DBAPI2 connectionother DBAPI2 objects are not tested, please consider using SQLAlchemy\n",
            "  warnings.warn(\n"
          ]
        }
      ],
      "source": [
        "import psycopg2\n",
        "import pandas as pd\n",
        "\n",
        "# create a PostgreSQL connection\n",
        "conn = psycopg2.connect(\n",
        "    host=\"***REMOVED***\",\n",
        "    dbname=\"postgres\",\n",
        "    user=\"postgres\",\n",
        "    password=\"***REMOVED***\"\n",
        ")\n",
        "\n",
        "# get all table names\n",
        "query = \"\"\"\n",
        "    SELECT table_name\n",
        "    FROM information_schema.tables\n",
        "    WHERE table_schema = 'public'\n",
        "\"\"\"\n",
        "tables = pd.read_sql_query(query, conn)[\"table_name\"].tolist()\n",
        "\n",
        "# get primary key columns for each table\n",
        "cur = conn.cursor()\n",
        "cur.execute(\"\"\"\n",
        "    SELECT tc.table_name, kcu.column_name\n",
        "    FROM information_schema.table_constraints AS tc\n",
        "    JOIN information_schema.key_column_usage AS kcu\n",
        "      ON tc.constraint_name = kcu.constraint_name\n",
        "      AND tc.table_schema = kcu.table_schema\n",
        "    WHERE tc.constraint_type = 'PRIMARY KEY'\n",
        "      AND tc.table_schema = 'public';\n",
        "\"\"\")\n",
        "primary_keys = dict(cur.fetchall())\n",
        "cur.close()\n",
        "\n",
        "# read all tables into a dictionary of DataFrames\n",
        "dfs = {}\n",
        "for table in tables:\n",
        "    query = f\"SELECT * FROM {table}\"\n",
        "    df = pd.read_sql_query(query, conn)\n",
        "    dfs[table] = df\n",
        "\n",
        "# display the data for each table\n",
        "for table, df in dfs.items():\n",
        "    print(f\"Table: {table}\")\n",
        "    print(df.head())\n",
        "\n",
        "# close the connection\n",
        "conn.close()\n",
        "\n",
        "#, index_col=primary_keys[table]"
      ]
    },
    {
      "cell_type": "markdown",
      "metadata": {
        "id": "7gGZ1RSZdWkc"
      },
      "source": [
        "### Joining the Uber price table with the others"
      ]
    },
    {
      "cell_type": "code",
      "execution_count": 12,
      "metadata": {
        "scrolled": true,
        "id": "qYbq158fdWkc"
      },
      "outputs": [],
      "source": [
        "from pyspark.sql.types import StructType, StructField, StringType, IntegerType, FloatType\n",
        "\n",
        "# Define the schema for the hotel_location table\n",
        "hotels_loc_schema = StructType([\n",
        "    StructField(\"id\", IntegerType(), True),\n",
        "    StructField(\"hotel_id\", IntegerType(), True),\n",
        "    StructField(\"lat\", FloatType(), True),\n",
        "    StructField(\"long\", FloatType(), True),\n",
        "])\n",
        "\n",
        "# define the schema for the tweets table\n",
        "tweets_schema = StructType([\n",
        "    StructField(\"id\", StringType()),\n",
        "    StructField(\"text\", StringType()),\n",
        "    StructField('edit_history_tweet_ids', StringType())\n",
        "])\n",
        "\n",
        "# define the schema for the tweet_metadata table\n",
        "tweet_metadata_schema = StructType([\n",
        "    StructField(\"id\", IntegerType()),\n",
        "    StructField(\"newest_id\", StringType()),\n",
        "    StructField(\"oldest_id\", StringType()),\n",
        "    StructField(\"result_count\", IntegerType()),\n",
        "    StructField(\"tweet_id\", IntegerType())\n",
        "])\n",
        "# define the schema for the tweet_metadata table\n",
        "train_stations_schema = StructType([\n",
        "    StructField(\"id\", IntegerType()),\n",
        "    StructField(\"name\", StringType()),\n",
        "    StructField(\"lat\", FloatType(), True),\n",
        "    StructField(\"long\", FloatType(), True),\n",
        "])\n",
        "\n",
        "uber_ride_df = spark.createDataFrame(dfs['uber_ride'])\n",
        "uber_price_df = spark.createDataFrame(dfs['uber_price'])\n",
        "weather_conditions_df = spark.createDataFrame(dfs['weather_conditions'])\n",
        "weather_location_df = spark.createDataFrame(dfs['weather_location'])\n",
        "weather_main_df=spark.createDataFrame(dfs['weather_main'])\n",
        "hotel_info_df=spark.createDataFrame(dfs['hotel_info'])\n",
        "hotel_location_df=spark.createDataFrame(dfs['hotel_location'],schema =hotels_loc_schema)\n",
        "tweets_df=spark.createDataFrame(dfs['tweets'], schema = tweets_schema)\n",
        "#tweet_metadata_df=spark.createDataFrame(dfs['tweet_metadata'], schema =tweet_metadata_schema)\n",
        "routes_df=spark.createDataFrame(dfs['routes'])\n",
        "train_stations_df=spark.createDataFrame(dfs['train_stations'], schema=train_stations_schema)"
      ]
    },
    {
      "cell_type": "markdown",
      "metadata": {
        "id": "c3eigVAFdWkc"
      },
      "source": [
        "### Merging uber prices with rides, routes and train stations \n"
      ]
    },
    {
      "cell_type": "code",
      "execution_count": 13,
      "metadata": {
        "id": "D8ImbVpJdWkd"
      },
      "outputs": [],
      "source": [
        "# join the two DataFrames on id and tweet_id\n",
        "uber_df = uber_price_df.join(uber_ride_df, uber_price_df.ride_id == uber_ride_df.id, 'left')\n",
        "uber_df = uber_df.withColumnRenamed('id', 'uber_price_id')\n"
      ]
    },
    {
      "cell_type": "code",
      "execution_count": 14,
      "metadata": {
        "id": "2Oj78DL4dWkd"
      },
      "outputs": [],
      "source": [
        "uber_df2=uber_df.join(routes_df, uber_df.route_id == routes_df.id, 'left')"
      ]
    },
    {
      "cell_type": "code",
      "execution_count": 15,
      "metadata": {
        "id": "ryN9sEwgdWkd"
      },
      "outputs": [],
      "source": [
        "uber_df2 = uber_df2.withColumnRenamed('id', 'routes_id')"
      ]
    },
    {
      "cell_type": "code",
      "execution_count": 16,
      "metadata": {
        "id": "TVymrhvHdWkd"
      },
      "outputs": [],
      "source": [
        "uber_df3=uber_df2.join(train_stations_df, uber_df2.start_location_id == train_stations_df.id, 'left')"
      ]
    },
    {
      "cell_type": "code",
      "execution_count": 17,
      "metadata": {
        "id": "WBvRkjAbdWkd"
      },
      "outputs": [],
      "source": [
        "uber_df3 = uber_df3.withColumnRenamed('id', 'train_station_id')\n",
        "uber_df3 = uber_df3.withColumnRenamed('name', 'train_station_name')\n",
        "uber_df3 = uber_df3.withColumnRenamed('lat', 'train_station_lat')\n",
        "uber_df3 = uber_df3.withColumnRenamed('long', 'train_station_long')"
      ]
    },
    {
      "cell_type": "code",
      "execution_count": 18,
      "metadata": {
        "colab": {
          "base_uri": "https://localhost:8080/",
          "height": 871
        },
        "id": "t4h_Ub5FdWkd",
        "outputId": "51cf2d70-b212-4509-a8ea-16bf0e08e02d"
      },
      "outputs": [
        {
          "output_type": "stream",
          "name": "stderr",
          "text": [
            "/content/spark-3.3.2-bin-hadoop3/python/pyspark/pandas/__init__.py:49: UserWarning: 'PYARROW_IGNORE_TIMEZONE' environment variable was not set. It is required to set this environment variable to '1' in both driver and executor sides if you use pyarrow>=2.0.0. pandas-on-Spark will set it for you but it does not work if there is a Spark context already launched.\n",
            "  warnings.warn(\n"
          ]
        },
        {
          "output_type": "execute_result",
          "data": {
            "text/plain": [
              "    uber_price_id  ride_id             x           green         assist  \\\n",
              "0              26       26  {Lux,£33-37}  {UberX,£13-15}  {Exec,£23-25}   \n",
              "1              29       29  {Lux,£34-37}  {UberX,£13-15}  {Exec,£23-25}   \n",
              "2              65       65  {Lux,£31-34}  {UberX,£12-13}  {Exec,£21-23}   \n",
              "3              19       19  {Lux,£31-34}  {UberX,£12-13}  {Exec,£21-23}   \n",
              "4              54       54  {Lux,£30-33}  {UberX,£12-13}  {Exec,£21-23}   \n",
              "..            ...      ...           ...             ...            ...   \n",
              "187           147      147  {Lux,£33-37}  {UberX,£13-15}  {Exec,£23-25}   \n",
              "188           183      183  {Lux,£34-38}  {UberX,£13-15}  {Exec,£23-26}   \n",
              "189           152      152  {Lux,£34-38}  {UberX,£13-15}  {Exec,£23-26}   \n",
              "190           148      148  {Lux,£34-37}  {UberX,£13-15}  {Exec,£23-25}   \n",
              "191           169      169  {Lux,£31-34}  {UberX,£12-13}  {Exec,£21-23}   \n",
              "\n",
              "              access              pet          comfort                xl  \\\n",
              "0    {UberXL,£20-22}  {Assist,£13-15}  {Access,£13-15}  {Comfort,£16-18}   \n",
              "1    {UberXL,£20-22}  {Assist,£13-15}  {Access,£13-15}  {Comfort,£17-18}   \n",
              "2    {UberXL,£18-20}  {Assist,£12-13}  {Access,£12-13}  {Comfort,£15-17}   \n",
              "3    {UberXL,£18-20}  {Assist,£12-13}  {Access,£12-13}  {Comfort,£15-17}   \n",
              "4    {UberXL,£18-20}  {Assist,£12-13}  {Access,£12-13}  {Comfort,£15-16}   \n",
              "..               ...              ...              ...               ...   \n",
              "187  {UberXL,£20-21}  {Assist,£13-15}  {Access,£13-15}  {Comfort,£16-18}   \n",
              "188  {UberXL,£20-22}  {Assist,£13-15}  {Access,£13-15}  {Comfort,£17-18}   \n",
              "189  {UberXL,£20-22}  {Assist,£13-15}  {Access,£13-15}  {Comfort,£17-18}   \n",
              "190  {UberXL,£20-22}  {Assist,£13-15}  {Access,£13-15}  {Comfort,£17-18}   \n",
              "191  {UberXL,£18-20}  {Assist,£12-13}  {Access,£12-13}  {Comfort,£15-17}   \n",
              "\n",
              "               exec  ... uber_price_id  route_id          time_stamp  \\\n",
              "0    {Green,£13-15}  ...            26       140 2023-03-22 15:14:21   \n",
              "1    {Green,£13-15}  ...            29       140 2023-03-22 10:48:26   \n",
              "2    {Green,£12-13}  ...            65       140 2023-03-22 14:50:06   \n",
              "3    {Green,£12-13}  ...            19       140 2023-03-22 14:49:02   \n",
              "4    {Green,£12-13}  ...            54       140 2023-03-22 14:57:00   \n",
              "..              ...  ...           ...       ...                 ...   \n",
              "187  {Green,£13-15}  ...           147        20 2023-03-19 15:08:11   \n",
              "188  {Green,£13-15}  ...           183       140 2023-03-22 14:57:00   \n",
              "189  {Green,£13-15}  ...           152        20 2023-03-19 15:13:04   \n",
              "190  {Green,£13-15}  ...           148        20 2023-03-19 15:13:04   \n",
              "191  {Green,£12-13}  ...           169       140 2023-03-22 15:13:17   \n",
              "\n",
              "    routes_id  start_location_id  end_location_id  train_station_id  \\\n",
              "0         140                  7                2                 7   \n",
              "1         140                  7                2                 7   \n",
              "2         140                  7                2                 7   \n",
              "3         140                  7                2                 7   \n",
              "4         140                  7                2                 7   \n",
              "..        ...                ...              ...               ...   \n",
              "187        20                  1                2                 1   \n",
              "188       140                  7                2                 7   \n",
              "189        20                  1                2                 1   \n",
              "190        20                  1                2                 1   \n",
              "191       140                  7                2                 7   \n",
              "\n",
              "     train_station_name train_station_lat  train_station_long  \n",
              "0      Victoria Station         51.495209           -0.143898  \n",
              "1      Victoria Station         51.495209           -0.143898  \n",
              "2      Victoria Station         51.495209           -0.143898  \n",
              "3      Victoria Station         51.495209           -0.143898  \n",
              "4      Victoria Station         51.495209           -0.143898  \n",
              "..                  ...               ...                 ...  \n",
              "187    Waterloo Station         51.503166           -0.112305  \n",
              "188    Victoria Station         51.495209           -0.143898  \n",
              "189    Waterloo Station         51.503166           -0.112305  \n",
              "190    Waterloo Station         51.503166           -0.112305  \n",
              "191    Victoria Station         51.495209           -0.143898  \n",
              "\n",
              "[192 rows x 21 columns]"
            ],
            "text/html": [
              "\n",
              "  <div id=\"df-e0f8fd77-1afa-42c0-a9dc-8f19cdd50b73\">\n",
              "    <div class=\"colab-df-container\">\n",
              "      <div>\n",
              "<style scoped>\n",
              "    .dataframe tbody tr th:only-of-type {\n",
              "        vertical-align: middle;\n",
              "    }\n",
              "\n",
              "    .dataframe tbody tr th {\n",
              "        vertical-align: top;\n",
              "    }\n",
              "\n",
              "    .dataframe thead th {\n",
              "        text-align: right;\n",
              "    }\n",
              "</style>\n",
              "<table border=\"1\" class=\"dataframe\">\n",
              "  <thead>\n",
              "    <tr style=\"text-align: right;\">\n",
              "      <th></th>\n",
              "      <th>uber_price_id</th>\n",
              "      <th>ride_id</th>\n",
              "      <th>x</th>\n",
              "      <th>green</th>\n",
              "      <th>assist</th>\n",
              "      <th>access</th>\n",
              "      <th>pet</th>\n",
              "      <th>comfort</th>\n",
              "      <th>xl</th>\n",
              "      <th>exec</th>\n",
              "      <th>...</th>\n",
              "      <th>uber_price_id</th>\n",
              "      <th>route_id</th>\n",
              "      <th>time_stamp</th>\n",
              "      <th>routes_id</th>\n",
              "      <th>start_location_id</th>\n",
              "      <th>end_location_id</th>\n",
              "      <th>train_station_id</th>\n",
              "      <th>train_station_name</th>\n",
              "      <th>train_station_lat</th>\n",
              "      <th>train_station_long</th>\n",
              "    </tr>\n",
              "  </thead>\n",
              "  <tbody>\n",
              "    <tr>\n",
              "      <th>0</th>\n",
              "      <td>26</td>\n",
              "      <td>26</td>\n",
              "      <td>{Lux,£33-37}</td>\n",
              "      <td>{UberX,£13-15}</td>\n",
              "      <td>{Exec,£23-25}</td>\n",
              "      <td>{UberXL,£20-22}</td>\n",
              "      <td>{Assist,£13-15}</td>\n",
              "      <td>{Access,£13-15}</td>\n",
              "      <td>{Comfort,£16-18}</td>\n",
              "      <td>{Green,£13-15}</td>\n",
              "      <td>...</td>\n",
              "      <td>26</td>\n",
              "      <td>140</td>\n",
              "      <td>2023-03-22 15:14:21</td>\n",
              "      <td>140</td>\n",
              "      <td>7</td>\n",
              "      <td>2</td>\n",
              "      <td>7</td>\n",
              "      <td>Victoria Station</td>\n",
              "      <td>51.495209</td>\n",
              "      <td>-0.143898</td>\n",
              "    </tr>\n",
              "    <tr>\n",
              "      <th>1</th>\n",
              "      <td>29</td>\n",
              "      <td>29</td>\n",
              "      <td>{Lux,£34-37}</td>\n",
              "      <td>{UberX,£13-15}</td>\n",
              "      <td>{Exec,£23-25}</td>\n",
              "      <td>{UberXL,£20-22}</td>\n",
              "      <td>{Assist,£13-15}</td>\n",
              "      <td>{Access,£13-15}</td>\n",
              "      <td>{Comfort,£17-18}</td>\n",
              "      <td>{Green,£13-15}</td>\n",
              "      <td>...</td>\n",
              "      <td>29</td>\n",
              "      <td>140</td>\n",
              "      <td>2023-03-22 10:48:26</td>\n",
              "      <td>140</td>\n",
              "      <td>7</td>\n",
              "      <td>2</td>\n",
              "      <td>7</td>\n",
              "      <td>Victoria Station</td>\n",
              "      <td>51.495209</td>\n",
              "      <td>-0.143898</td>\n",
              "    </tr>\n",
              "    <tr>\n",
              "      <th>2</th>\n",
              "      <td>65</td>\n",
              "      <td>65</td>\n",
              "      <td>{Lux,£31-34}</td>\n",
              "      <td>{UberX,£12-13}</td>\n",
              "      <td>{Exec,£21-23}</td>\n",
              "      <td>{UberXL,£18-20}</td>\n",
              "      <td>{Assist,£12-13}</td>\n",
              "      <td>{Access,£12-13}</td>\n",
              "      <td>{Comfort,£15-17}</td>\n",
              "      <td>{Green,£12-13}</td>\n",
              "      <td>...</td>\n",
              "      <td>65</td>\n",
              "      <td>140</td>\n",
              "      <td>2023-03-22 14:50:06</td>\n",
              "      <td>140</td>\n",
              "      <td>7</td>\n",
              "      <td>2</td>\n",
              "      <td>7</td>\n",
              "      <td>Victoria Station</td>\n",
              "      <td>51.495209</td>\n",
              "      <td>-0.143898</td>\n",
              "    </tr>\n",
              "    <tr>\n",
              "      <th>3</th>\n",
              "      <td>19</td>\n",
              "      <td>19</td>\n",
              "      <td>{Lux,£31-34}</td>\n",
              "      <td>{UberX,£12-13}</td>\n",
              "      <td>{Exec,£21-23}</td>\n",
              "      <td>{UberXL,£18-20}</td>\n",
              "      <td>{Assist,£12-13}</td>\n",
              "      <td>{Access,£12-13}</td>\n",
              "      <td>{Comfort,£15-17}</td>\n",
              "      <td>{Green,£12-13}</td>\n",
              "      <td>...</td>\n",
              "      <td>19</td>\n",
              "      <td>140</td>\n",
              "      <td>2023-03-22 14:49:02</td>\n",
              "      <td>140</td>\n",
              "      <td>7</td>\n",
              "      <td>2</td>\n",
              "      <td>7</td>\n",
              "      <td>Victoria Station</td>\n",
              "      <td>51.495209</td>\n",
              "      <td>-0.143898</td>\n",
              "    </tr>\n",
              "    <tr>\n",
              "      <th>4</th>\n",
              "      <td>54</td>\n",
              "      <td>54</td>\n",
              "      <td>{Lux,£30-33}</td>\n",
              "      <td>{UberX,£12-13}</td>\n",
              "      <td>{Exec,£21-23}</td>\n",
              "      <td>{UberXL,£18-20}</td>\n",
              "      <td>{Assist,£12-13}</td>\n",
              "      <td>{Access,£12-13}</td>\n",
              "      <td>{Comfort,£15-16}</td>\n",
              "      <td>{Green,£12-13}</td>\n",
              "      <td>...</td>\n",
              "      <td>54</td>\n",
              "      <td>140</td>\n",
              "      <td>2023-03-22 14:57:00</td>\n",
              "      <td>140</td>\n",
              "      <td>7</td>\n",
              "      <td>2</td>\n",
              "      <td>7</td>\n",
              "      <td>Victoria Station</td>\n",
              "      <td>51.495209</td>\n",
              "      <td>-0.143898</td>\n",
              "    </tr>\n",
              "    <tr>\n",
              "      <th>...</th>\n",
              "      <td>...</td>\n",
              "      <td>...</td>\n",
              "      <td>...</td>\n",
              "      <td>...</td>\n",
              "      <td>...</td>\n",
              "      <td>...</td>\n",
              "      <td>...</td>\n",
              "      <td>...</td>\n",
              "      <td>...</td>\n",
              "      <td>...</td>\n",
              "      <td>...</td>\n",
              "      <td>...</td>\n",
              "      <td>...</td>\n",
              "      <td>...</td>\n",
              "      <td>...</td>\n",
              "      <td>...</td>\n",
              "      <td>...</td>\n",
              "      <td>...</td>\n",
              "      <td>...</td>\n",
              "      <td>...</td>\n",
              "      <td>...</td>\n",
              "    </tr>\n",
              "    <tr>\n",
              "      <th>187</th>\n",
              "      <td>147</td>\n",
              "      <td>147</td>\n",
              "      <td>{Lux,£33-37}</td>\n",
              "      <td>{UberX,£13-15}</td>\n",
              "      <td>{Exec,£23-25}</td>\n",
              "      <td>{UberXL,£20-21}</td>\n",
              "      <td>{Assist,£13-15}</td>\n",
              "      <td>{Access,£13-15}</td>\n",
              "      <td>{Comfort,£16-18}</td>\n",
              "      <td>{Green,£13-15}</td>\n",
              "      <td>...</td>\n",
              "      <td>147</td>\n",
              "      <td>20</td>\n",
              "      <td>2023-03-19 15:08:11</td>\n",
              "      <td>20</td>\n",
              "      <td>1</td>\n",
              "      <td>2</td>\n",
              "      <td>1</td>\n",
              "      <td>Waterloo Station</td>\n",
              "      <td>51.503166</td>\n",
              "      <td>-0.112305</td>\n",
              "    </tr>\n",
              "    <tr>\n",
              "      <th>188</th>\n",
              "      <td>183</td>\n",
              "      <td>183</td>\n",
              "      <td>{Lux,£34-38}</td>\n",
              "      <td>{UberX,£13-15}</td>\n",
              "      <td>{Exec,£23-26}</td>\n",
              "      <td>{UberXL,£20-22}</td>\n",
              "      <td>{Assist,£13-15}</td>\n",
              "      <td>{Access,£13-15}</td>\n",
              "      <td>{Comfort,£17-18}</td>\n",
              "      <td>{Green,£13-15}</td>\n",
              "      <td>...</td>\n",
              "      <td>183</td>\n",
              "      <td>140</td>\n",
              "      <td>2023-03-22 14:57:00</td>\n",
              "      <td>140</td>\n",
              "      <td>7</td>\n",
              "      <td>2</td>\n",
              "      <td>7</td>\n",
              "      <td>Victoria Station</td>\n",
              "      <td>51.495209</td>\n",
              "      <td>-0.143898</td>\n",
              "    </tr>\n",
              "    <tr>\n",
              "      <th>189</th>\n",
              "      <td>152</td>\n",
              "      <td>152</td>\n",
              "      <td>{Lux,£34-38}</td>\n",
              "      <td>{UberX,£13-15}</td>\n",
              "      <td>{Exec,£23-26}</td>\n",
              "      <td>{UberXL,£20-22}</td>\n",
              "      <td>{Assist,£13-15}</td>\n",
              "      <td>{Access,£13-15}</td>\n",
              "      <td>{Comfort,£17-18}</td>\n",
              "      <td>{Green,£13-15}</td>\n",
              "      <td>...</td>\n",
              "      <td>152</td>\n",
              "      <td>20</td>\n",
              "      <td>2023-03-19 15:13:04</td>\n",
              "      <td>20</td>\n",
              "      <td>1</td>\n",
              "      <td>2</td>\n",
              "      <td>1</td>\n",
              "      <td>Waterloo Station</td>\n",
              "      <td>51.503166</td>\n",
              "      <td>-0.112305</td>\n",
              "    </tr>\n",
              "    <tr>\n",
              "      <th>190</th>\n",
              "      <td>148</td>\n",
              "      <td>148</td>\n",
              "      <td>{Lux,£34-37}</td>\n",
              "      <td>{UberX,£13-15}</td>\n",
              "      <td>{Exec,£23-25}</td>\n",
              "      <td>{UberXL,£20-22}</td>\n",
              "      <td>{Assist,£13-15}</td>\n",
              "      <td>{Access,£13-15}</td>\n",
              "      <td>{Comfort,£17-18}</td>\n",
              "      <td>{Green,£13-15}</td>\n",
              "      <td>...</td>\n",
              "      <td>148</td>\n",
              "      <td>20</td>\n",
              "      <td>2023-03-19 15:13:04</td>\n",
              "      <td>20</td>\n",
              "      <td>1</td>\n",
              "      <td>2</td>\n",
              "      <td>1</td>\n",
              "      <td>Waterloo Station</td>\n",
              "      <td>51.503166</td>\n",
              "      <td>-0.112305</td>\n",
              "    </tr>\n",
              "    <tr>\n",
              "      <th>191</th>\n",
              "      <td>169</td>\n",
              "      <td>169</td>\n",
              "      <td>{Lux,£31-34}</td>\n",
              "      <td>{UberX,£12-13}</td>\n",
              "      <td>{Exec,£21-23}</td>\n",
              "      <td>{UberXL,£18-20}</td>\n",
              "      <td>{Assist,£12-13}</td>\n",
              "      <td>{Access,£12-13}</td>\n",
              "      <td>{Comfort,£15-17}</td>\n",
              "      <td>{Green,£12-13}</td>\n",
              "      <td>...</td>\n",
              "      <td>169</td>\n",
              "      <td>140</td>\n",
              "      <td>2023-03-22 15:13:17</td>\n",
              "      <td>140</td>\n",
              "      <td>7</td>\n",
              "      <td>2</td>\n",
              "      <td>7</td>\n",
              "      <td>Victoria Station</td>\n",
              "      <td>51.495209</td>\n",
              "      <td>-0.143898</td>\n",
              "    </tr>\n",
              "  </tbody>\n",
              "</table>\n",
              "<p>192 rows × 21 columns</p>\n",
              "</div>\n",
              "      <button class=\"colab-df-convert\" onclick=\"convertToInteractive('df-e0f8fd77-1afa-42c0-a9dc-8f19cdd50b73')\"\n",
              "              title=\"Convert this dataframe to an interactive table.\"\n",
              "              style=\"display:none;\">\n",
              "        \n",
              "  <svg xmlns=\"http://www.w3.org/2000/svg\" height=\"24px\"viewBox=\"0 0 24 24\"\n",
              "       width=\"24px\">\n",
              "    <path d=\"M0 0h24v24H0V0z\" fill=\"none\"/>\n",
              "    <path d=\"M18.56 5.44l.94 2.06.94-2.06 2.06-.94-2.06-.94-.94-2.06-.94 2.06-2.06.94zm-11 1L8.5 8.5l.94-2.06 2.06-.94-2.06-.94L8.5 2.5l-.94 2.06-2.06.94zm10 10l.94 2.06.94-2.06 2.06-.94-2.06-.94-.94-2.06-.94 2.06-2.06.94z\"/><path d=\"M17.41 7.96l-1.37-1.37c-.4-.4-.92-.59-1.43-.59-.52 0-1.04.2-1.43.59L10.3 9.45l-7.72 7.72c-.78.78-.78 2.05 0 2.83L4 21.41c.39.39.9.59 1.41.59.51 0 1.02-.2 1.41-.59l7.78-7.78 2.81-2.81c.8-.78.8-2.07 0-2.86zM5.41 20L4 18.59l7.72-7.72 1.47 1.35L5.41 20z\"/>\n",
              "  </svg>\n",
              "      </button>\n",
              "      \n",
              "  <style>\n",
              "    .colab-df-container {\n",
              "      display:flex;\n",
              "      flex-wrap:wrap;\n",
              "      gap: 12px;\n",
              "    }\n",
              "\n",
              "    .colab-df-convert {\n",
              "      background-color: #E8F0FE;\n",
              "      border: none;\n",
              "      border-radius: 50%;\n",
              "      cursor: pointer;\n",
              "      display: none;\n",
              "      fill: #1967D2;\n",
              "      height: 32px;\n",
              "      padding: 0 0 0 0;\n",
              "      width: 32px;\n",
              "    }\n",
              "\n",
              "    .colab-df-convert:hover {\n",
              "      background-color: #E2EBFA;\n",
              "      box-shadow: 0px 1px 2px rgba(60, 64, 67, 0.3), 0px 1px 3px 1px rgba(60, 64, 67, 0.15);\n",
              "      fill: #174EA6;\n",
              "    }\n",
              "\n",
              "    [theme=dark] .colab-df-convert {\n",
              "      background-color: #3B4455;\n",
              "      fill: #D2E3FC;\n",
              "    }\n",
              "\n",
              "    [theme=dark] .colab-df-convert:hover {\n",
              "      background-color: #434B5C;\n",
              "      box-shadow: 0px 1px 3px 1px rgba(0, 0, 0, 0.15);\n",
              "      filter: drop-shadow(0px 1px 2px rgba(0, 0, 0, 0.3));\n",
              "      fill: #FFFFFF;\n",
              "    }\n",
              "  </style>\n",
              "\n",
              "      <script>\n",
              "        const buttonEl =\n",
              "          document.querySelector('#df-e0f8fd77-1afa-42c0-a9dc-8f19cdd50b73 button.colab-df-convert');\n",
              "        buttonEl.style.display =\n",
              "          google.colab.kernel.accessAllowed ? 'block' : 'none';\n",
              "\n",
              "        async function convertToInteractive(key) {\n",
              "          const element = document.querySelector('#df-e0f8fd77-1afa-42c0-a9dc-8f19cdd50b73');\n",
              "          const dataTable =\n",
              "            await google.colab.kernel.invokeFunction('convertToInteractive',\n",
              "                                                     [key], {});\n",
              "          if (!dataTable) return;\n",
              "\n",
              "          const docLinkHtml = 'Like what you see? Visit the ' +\n",
              "            '<a target=\"_blank\" href=https://colab.research.google.com/notebooks/data_table.ipynb>data table notebook</a>'\n",
              "            + ' to learn more about interactive tables.';\n",
              "          element.innerHTML = '';\n",
              "          dataTable['output_type'] = 'display_data';\n",
              "          await google.colab.output.renderOutput(dataTable, element);\n",
              "          const docLink = document.createElement('div');\n",
              "          docLink.innerHTML = docLinkHtml;\n",
              "          element.appendChild(docLink);\n",
              "        }\n",
              "      </script>\n",
              "    </div>\n",
              "  </div>\n",
              "  "
            ]
          },
          "metadata": {},
          "execution_count": 18
        }
      ],
      "source": [
        "# import Pandas-on-Spark\n",
        "import pyspark.pandas as ps\n",
        "\n",
        "# Convert a Pandas-on-Spark Dataframe into a Pandas Dataframe\n",
        "uber_df3_pd = uber_df3.toPandas()\n",
        "uber_df3_pd"
      ]
    },
    {
      "cell_type": "code",
      "execution_count": 19,
      "metadata": {
        "id": "wrZ0Q7FWdWkd"
      },
      "outputs": [],
      "source": [
        "uber_df3 = uber_df3.drop(\"uber_price_id\",'route_id','ride_id','routes_id')\n"
      ]
    },
    {
      "cell_type": "markdown",
      "metadata": {
        "id": "4IMRabhRdWkd"
      },
      "source": [
        "### Merging hotels related tables "
      ]
    },
    {
      "cell_type": "code",
      "execution_count": 20,
      "metadata": {
        "id": "JlHWYHt5dWkd"
      },
      "outputs": [],
      "source": [
        "hotel_location_df = hotel_location_df.withColumnRenamed('id', 'hotel_loc_id')"
      ]
    },
    {
      "cell_type": "code",
      "execution_count": 21,
      "metadata": {
        "id": "_tlBjg-ndWkd"
      },
      "outputs": [],
      "source": [
        "hotel_info_df= hotel_info_df.withColumnRenamed('id', 'hotel_info_id')\n",
        "hotel_info_df= hotel_info_df.withColumnRenamed('name', 'hotel_name')\n",
        "hotel_info_df= hotel_info_df.withColumnRenamed('lat', 'hotel_lat')\n",
        "hotel_info_df= hotel_info_df.withColumnRenamed('long', 'hotel_long')"
      ]
    },
    {
      "cell_type": "code",
      "execution_count": 22,
      "metadata": {
        "colab": {
          "base_uri": "https://localhost:8080/"
        },
        "id": "ymEqMO8TdWkd",
        "outputId": "c4429cef-628f-46cd-bf58-77a18804e7d4"
      },
      "outputs": [
        {
          "output_type": "stream",
          "name": "stdout",
          "text": [
            "+------------+--------+---+----+-------------+--------------------+--------------------+\n",
            "|hotel_loc_id|hotel_id|lat|long|hotel_info_id|          hotel_name|       neighbourhood|\n",
            "+------------+--------+---+----+-------------+--------------------+--------------------+\n",
            "|           1|       1|NaN| NaN|            1|DoubleTree by Hil...|City of London, L...|\n",
            "|           2|       2|NaN| NaN|            2|   Stayo Kew Gardens|                 Kew|\n",
            "|           3|       3|NaN| NaN|            3|               BENQi|Kensington and Ch...|\n",
            "|           4|       4|NaN| NaN|            4|              Studio|            Stanmore|\n",
            "|           5|       5|NaN| NaN|            5|   The Resident Soho|Westminster Borou...|\n",
            "|           6|       6|NaN| NaN|            6|Bromley Court Hot...|             Bromley|\n",
            "|           7|       7|NaN| NaN|            7|Leonardo Hotel Lo...|             Croydon|\n",
            "|           8|       8|NaN| NaN|            8|     The Hide London|              Hendon|\n",
            "|           9|       9|NaN| NaN|            9|The White Hart Hotel|Hampton Wick, Kin...|\n",
            "|          10|      10|NaN| NaN|           10|DoubleTree by Hil...|            Dartford|\n",
            "|          11|      11|NaN| NaN|           11|Citadines Trafalg...|Westminster Borou...|\n",
            "|          12|      12|NaN| NaN|           12|Montcalm Royal Lo...|   Islington, London|\n",
            "|          13|      13|NaN| NaN|           13|Radisson Blu Edwa...|      Camden, London|\n",
            "|          14|      14|NaN| NaN|           14|Morland Apartment...|             Romford|\n",
            "|          15|      15|NaN| NaN|           15|Moxy London Heath...|            Hounslow|\n",
            "|          16|      16|NaN| NaN|           16|Leonardo Royal Lo...|City of London, L...|\n",
            "|          17|      17|NaN| NaN|           17|Milestone Hotel K...|Kensington and Ch...|\n",
            "|          18|      18|NaN| NaN|           18|Delta Hotels by M...|       Waltham Abbey|\n",
            "|          19|      19|NaN| NaN|           19|       Egerton House|Kensington and Ch...|\n",
            "|          20|      20|NaN| NaN|           20|Delta Hotels by M...|         Bexleyheath|\n",
            "+------------+--------+---+----+-------------+--------------------+--------------------+\n",
            "only showing top 20 rows\n",
            "\n"
          ]
        }
      ],
      "source": [
        "hotels_df = hotel_location_df.join(hotel_info_df,hotel_location_df.hotel_id==hotel_info_df.hotel_info_id, 'left')\n",
        "hotels_df.show()"
      ]
    },
    {
      "cell_type": "code",
      "execution_count": 22,
      "metadata": {
        "id": "fgTiOw17dWkd"
      },
      "outputs": [],
      "source": []
    },
    {
      "cell_type": "code",
      "execution_count": 23,
      "metadata": {
        "id": "hnqSmB0hdWke"
      },
      "outputs": [],
      "source": [
        "# import Pandas-on-Spark\n",
        "import pyspark.pandas as ps\n",
        "\n",
        "# Convert a Pandas-on-Spark Dataframe into a Pandas Dataframe\n",
        "hotels_pd = hotels_df.toPandas()"
      ]
    },
    {
      "cell_type": "code",
      "execution_count": 24,
      "metadata": {
        "colab": {
          "base_uri": "https://localhost:8080/"
        },
        "id": "4nQQYzpEdWke",
        "outputId": "cc9a8cb3-7ed3-41bf-c194-92c227635df8"
      },
      "outputs": [
        {
          "output_type": "stream",
          "name": "stdout",
          "text": [
            "+------------+--------+---+----+--------------------+--------------------+\n",
            "|hotel_loc_id|hotel_id|lat|long|          hotel_name|       neighbourhood|\n",
            "+------------+--------+---+----+--------------------+--------------------+\n",
            "|           1|       1|NaN| NaN|DoubleTree by Hil...|City of London, L...|\n",
            "|           2|       2|NaN| NaN|   Stayo Kew Gardens|                 Kew|\n",
            "|           3|       3|NaN| NaN|               BENQi|Kensington and Ch...|\n",
            "|           4|       4|NaN| NaN|              Studio|            Stanmore|\n",
            "|           5|       5|NaN| NaN|   The Resident Soho|Westminster Borou...|\n",
            "|           6|       6|NaN| NaN|Bromley Court Hot...|             Bromley|\n",
            "|           7|       7|NaN| NaN|Leonardo Hotel Lo...|             Croydon|\n",
            "|           8|       8|NaN| NaN|     The Hide London|              Hendon|\n",
            "|           9|       9|NaN| NaN|The White Hart Hotel|Hampton Wick, Kin...|\n",
            "|          10|      10|NaN| NaN|DoubleTree by Hil...|            Dartford|\n",
            "|          11|      11|NaN| NaN|Citadines Trafalg...|Westminster Borou...|\n",
            "|          12|      12|NaN| NaN|Montcalm Royal Lo...|   Islington, London|\n",
            "|          13|      13|NaN| NaN|Radisson Blu Edwa...|      Camden, London|\n",
            "|          14|      14|NaN| NaN|Morland Apartment...|             Romford|\n",
            "|          15|      15|NaN| NaN|Moxy London Heath...|            Hounslow|\n",
            "|          16|      16|NaN| NaN|Leonardo Royal Lo...|City of London, L...|\n",
            "|          17|      17|NaN| NaN|Milestone Hotel K...|Kensington and Ch...|\n",
            "|          18|      18|NaN| NaN|Delta Hotels by M...|       Waltham Abbey|\n",
            "|          19|      19|NaN| NaN|       Egerton House|Kensington and Ch...|\n",
            "|          20|      20|NaN| NaN|Delta Hotels by M...|         Bexleyheath|\n",
            "+------------+--------+---+----+--------------------+--------------------+\n",
            "only showing top 20 rows\n",
            "\n"
          ]
        }
      ],
      "source": [
        "hotels_df = hotels_df.drop(\"hotel_info_id\")\n",
        "hotels_df.show()"
      ]
    },
    {
      "cell_type": "markdown",
      "metadata": {
        "id": "notwxZdsdWke"
      },
      "source": [
        "### Merging weather related tables "
      ]
    },
    {
      "cell_type": "code",
      "execution_count": 25,
      "metadata": {
        "id": "E0SvaVPodWke"
      },
      "outputs": [],
      "source": [
        "weather_conditions_df = weather_conditions_df.withColumnRenamed('id', 'weather_conditions_id')"
      ]
    },
    {
      "cell_type": "code",
      "execution_count": 26,
      "metadata": {
        "colab": {
          "base_uri": "https://localhost:8080/"
        },
        "id": "JIqUwe64dWke",
        "outputId": "1b3affc7-cc75-4cac-ed6c-9e270351310a"
      },
      "outputs": [
        {
          "output_type": "stream",
          "name": "stdout",
          "text": [
            "+--------------+-----------+-------+------------+-------------------+\n",
            "|weather_loc_id|location_id|main_id|condition_id|                 dt|\n",
            "+--------------+-----------+-------+------------+-------------------+\n",
            "|       2634341|         10|    803|         803|2023-03-22 15:14:21|\n",
            "|       2640692|         13|    803|         803|2023-03-22 15:13:19|\n",
            "|       3345437|         15|    803|         803|2023-03-22 15:13:19|\n",
            "|       2637221|         16|    803|         803|2023-03-22 15:14:21|\n",
            "|       2643744|    2643744|    803|         803|2023-03-22 15:09:42|\n",
            "|       2643743|    2643743|    803|         803|2023-03-22 15:05:29|\n",
            "+--------------+-----------+-------+------------+-------------------+\n",
            "\n"
          ]
        }
      ],
      "source": [
        "weather_location_df = weather_location_df.withColumnRenamed('id', 'weather_loc_id')\n",
        "weather_location_df.show()"
      ]
    },
    {
      "cell_type": "code",
      "execution_count": 27,
      "metadata": {
        "colab": {
          "base_uri": "https://localhost:8080/"
        },
        "id": "osJz8Wi0dWke",
        "outputId": "07f6d5ce-dd2c-48e0-8f10-c655c8fc3e40"
      },
      "outputs": [
        {
          "output_type": "stream",
          "name": "stdout",
          "text": [
            "+---------------------+-----------+----------+------+--------------+-----------+-------+------------+-------------------+\n",
            "|weather_conditions_id|temperature|feels_like|clouds|weather_loc_id|location_id|main_id|condition_id|                 dt|\n",
            "+---------------------+-----------+----------+------+--------------+-----------+-------+------------+-------------------+\n",
            "|                  803|      10.91|      9.75|    75|       2643743|    2643743|    803|         803|2023-03-22 15:05:29|\n",
            "|                  803|      10.91|      9.75|    75|       2643744|    2643744|    803|         803|2023-03-22 15:09:42|\n",
            "|                  803|      10.91|      9.75|    75|       2637221|         16|    803|         803|2023-03-22 15:14:21|\n",
            "|                  803|      10.91|      9.75|    75|       3345437|         15|    803|         803|2023-03-22 15:13:19|\n",
            "|                  803|      10.91|      9.75|    75|       2640692|         13|    803|         803|2023-03-22 15:13:19|\n",
            "|                  803|      10.91|      9.75|    75|       2634341|         10|    803|         803|2023-03-22 15:14:21|\n",
            "+---------------------+-----------+----------+------+--------------+-----------+-------+------------+-------------------+\n",
            "\n"
          ]
        }
      ],
      "source": [
        "weather_df1 = weather_conditions_df.join(weather_location_df,weather_conditions_df.weather_conditions_id==weather_location_df.condition_id, 'left')\n",
        "weather_df1.show()"
      ]
    },
    {
      "cell_type": "code",
      "execution_count": 28,
      "metadata": {
        "id": "wnwIhQ0idWke"
      },
      "outputs": [],
      "source": [
        "weather_main_df = weather_main_df.withColumnRenamed('id', 'weather_main_id')"
      ]
    },
    {
      "cell_type": "code",
      "execution_count": 29,
      "metadata": {
        "id": "gHiqs3qSdWke"
      },
      "outputs": [],
      "source": [
        "weather_df = weather_df1.join(weather_main_df,weather_df1.main_id==weather_main_df.weather_main_id, 'left')"
      ]
    },
    {
      "cell_type": "code",
      "execution_count": 30,
      "metadata": {
        "id": "Vus5ttJmdWke"
      },
      "outputs": [],
      "source": [
        "# import Pandas-on-Spark\n",
        "import pyspark.pandas as ps\n",
        "\n",
        "# Convert a Pandas-on-Spark Dataframe into a Pandas Dataframe\n",
        "weather_pd = weather_df.toPandas()"
      ]
    },
    {
      "cell_type": "code",
      "execution_count": 31,
      "metadata": {
        "scrolled": true,
        "colab": {
          "base_uri": "https://localhost:8080/"
        },
        "id": "CeOA2ksMdWke",
        "outputId": "767e069f-c967-455b-9f55-0e2ff7838d69"
      },
      "outputs": [
        {
          "output_type": "stream",
          "name": "stdout",
          "text": [
            "+-----------+----------+------+-----------+------------+-------------------+------+-------------+\n",
            "|temperature|feels_like|clouds|location_id|condition_id|                 dt|  main|         desc|\n",
            "+-----------+----------+------+-----------+------------+-------------------+------+-------------+\n",
            "|      10.91|      9.75|    75|    2643743|         803|2023-03-22 15:05:29|Clouds|broken clouds|\n",
            "|      10.91|      9.75|    75|    2643744|         803|2023-03-22 15:09:42|Clouds|broken clouds|\n",
            "|      10.91|      9.75|    75|         16|         803|2023-03-22 15:14:21|Clouds|broken clouds|\n",
            "|      10.91|      9.75|    75|         15|         803|2023-03-22 15:13:19|Clouds|broken clouds|\n",
            "|      10.91|      9.75|    75|         13|         803|2023-03-22 15:13:19|Clouds|broken clouds|\n",
            "|      10.91|      9.75|    75|         10|         803|2023-03-22 15:14:21|Clouds|broken clouds|\n",
            "+-----------+----------+------+-----------+------------+-------------------+------+-------------+\n",
            "\n"
          ]
        }
      ],
      "source": [
        "weather_df = weather_df.drop(\"weather_main_id\",'weather_conditions_id','weather_loc_id','main_id')\n",
        "weather_df.show()"
      ]
    },
    {
      "cell_type": "code",
      "execution_count": 32,
      "metadata": {
        "scrolled": true,
        "id": "PboBCUPvdWke"
      },
      "outputs": [],
      "source": [
        "uber_weather_df = uber_df3.join(weather_df,uber_df3.train_station_id==weather_df.location_id, 'left')"
      ]
    },
    {
      "cell_type": "markdown",
      "metadata": {
        "id": "vU5__1PHdWke"
      },
      "source": [
        "### Merging the Uber table with hotels and weather "
      ]
    },
    {
      "cell_type": "code",
      "execution_count": 33,
      "metadata": {
        "scrolled": true,
        "id": "g5cxIpwudWkf"
      },
      "outputs": [],
      "source": [
        "uber_hotels_df = uber_df3.join(hotels_df,uber_df3.end_location_id==hotels_df.hotel_loc_id, 'left')"
      ]
    },
    {
      "cell_type": "code",
      "execution_count": 34,
      "metadata": {
        "id": "yx8z-V6zdWkf"
      },
      "outputs": [],
      "source": [
        "# import Pandas-on-Spark\n",
        "import pyspark.pandas as ps\n",
        "\n",
        "# Convert a Pandas-on-Spark Dataframe into a Pandas Dataframe\n",
        "uber_hotels_pd = uber_hotels_df.toPandas()"
      ]
    },
    {
      "cell_type": "code",
      "execution_count": 35,
      "metadata": {
        "id": "p-EEULRHdWkf"
      },
      "outputs": [],
      "source": [
        "uber_df_final = uber_hotels_df.join(weather_df,uber_hotels_df.train_station_id==weather_df.location_id, 'left')"
      ]
    },
    {
      "cell_type": "code",
      "execution_count": 36,
      "metadata": {
        "id": "DAK7d9-GdWkf"
      },
      "outputs": [],
      "source": [
        "# import Pandas-on-Spark\n",
        "import pyspark.pandas as ps\n",
        "\n",
        "# Convert a Pandas-on-Spark Dataframe into a Pandas Dataframe\n",
        "uber_final_pd = uber_df_final.toPandas()"
      ]
    },
    {
      "cell_type": "markdown",
      "metadata": {
        "id": "n45DpqxIdWkf"
      },
      "source": [
        "## Extract prices"
      ]
    },
    {
      "cell_type": "code",
      "execution_count": 37,
      "metadata": {
        "id": "CrKL6g-HdWkf"
      },
      "outputs": [],
      "source": [
        "def extract_average_price(text):\n",
        "    match = re.search(r'£(\\d+)-(\\d+)', text)\n",
        "    if match:\n",
        "        return (int(match.group(1)) + int(match.group(2))) / 2\n",
        "    else:\n",
        "        return None"
      ]
    },
    {
      "cell_type": "code",
      "execution_count": 38,
      "metadata": {
        "id": "9CTPumiZdWkf"
      },
      "outputs": [],
      "source": [
        "import re\n",
        "from pyspark.sql.functions import udf\n",
        "from pyspark.sql.types import FloatType\n",
        "\n",
        "# Define the UDF\n",
        "extract_average_price_udf = udf(lambda x: extract_average_price(x) if x else None, FloatType())"
      ]
    },
    {
      "cell_type": "code",
      "execution_count": 39,
      "metadata": {
        "colab": {
          "base_uri": "https://localhost:8080/"
        },
        "id": "uQVt9DF9dWkf",
        "outputId": "8f429ad4-5576-4b1b-c7aa-3cbfe75d0ff4"
      },
      "outputs": [
        {
          "output_type": "execute_result",
          "data": {
            "text/plain": [
              "<function __main__.<lambda>(x)>"
            ]
          },
          "metadata": {},
          "execution_count": 39
        }
      ],
      "source": [
        "spark.udf.register(\"extract_average_price_udf\", extract_average_price_udf)"
      ]
    },
    {
      "cell_type": "code",
      "execution_count": 40,
      "metadata": {
        "id": "J7pZ8RlQdWkf"
      },
      "outputs": [],
      "source": [
        "#uber_hotels_df['green_avg_price'] = uber_hotels_df['green'].astype(str).apply(extract_average_price)\n",
        "\n",
        "uber_hotels_df = uber_hotels_df.withColumn('green_avg_price', extract_average_price_udf(uber_hotels_df['green']))\n",
        "uber_hotels_df = uber_hotels_df.withColumn('x_avg_price', extract_average_price_udf(uber_hotels_df['x']))\n",
        "uber_hotels_df = uber_hotels_df.withColumn('assist_avg_price', extract_average_price_udf(uber_hotels_df['assist']))\n",
        "uber_hotels_df = uber_hotels_df.withColumn('access_avg_price', extract_average_price_udf(uber_hotels_df['access']))\n",
        "uber_hotels_df = uber_hotels_df.withColumn('pet_avg_price', extract_average_price_udf(uber_hotels_df['pet']))\n",
        "uber_hotels_df = uber_hotels_df.withColumn('comfort_avg_price', extract_average_price_udf(uber_hotels_df['comfort']))\n",
        "uber_hotels_df = uber_hotels_df.withColumn('xl_avg_price', extract_average_price_udf(uber_hotels_df['xl']))\n",
        "uber_hotels_df = uber_hotels_df.withColumn('exec_avg_price', extract_average_price_udf(uber_hotels_df['exec']))\n",
        "uber_hotels_df = uber_hotels_df.withColumn('lux_avg_price', extract_average_price_udf(uber_hotels_df['lux']))"
      ]
    },
    {
      "cell_type": "markdown",
      "metadata": {
        "id": "u5LCKfgUdWkg"
      },
      "source": [
        "## View for some queries"
      ]
    },
    {
      "cell_type": "code",
      "execution_count": 41,
      "metadata": {
        "id": "KfucfEY_dWkg"
      },
      "outputs": [],
      "source": [
        "from time import time\n",
        "\n",
        "# import Pandas-on-Spark\n",
        "import pyspark.pandas as ps\n",
        "\n",
        "# Convert a Pandas-on-Spark Dataframe into a Pandas Dataframe\n",
        "uber_hotels_pd_new = uber_hotels_df.toPandas()"
      ]
    },
    {
      "cell_type": "code",
      "execution_count": 42,
      "metadata": {
        "id": "Oz3o0H3SdWkg"
      },
      "outputs": [],
      "source": [
        "uber_hotels_df.createOrReplaceTempView(\"uber\")"
      ]
    },
    {
      "cell_type": "code",
      "execution_count": 43,
      "metadata": {
        "scrolled": true,
        "colab": {
          "base_uri": "https://localhost:8080/"
        },
        "id": "B5SPOOIEdWkg",
        "outputId": "c5a35ffd-4082-44ea-ac5e-c8db95b41ab9"
      },
      "outputs": [
        {
          "output_type": "execute_result",
          "data": {
            "text/plain": [
              "DataFrame[x: string, green: string, assist: string, access: string, pet: string, comfort: string, xl: string, exec: string, lux: string, time_stamp: timestamp, start_location_id: bigint, end_location_id: bigint, train_station_id: int, train_station_name: string, train_station_lat: float, train_station_long: float, hotel_loc_id: int, hotel_id: int, lat: float, long: float, hotel_name: string, neighbourhood: string, green_avg_price: float, x_avg_price: float, assist_avg_price: float, access_avg_price: float, pet_avg_price: float, comfort_avg_price: float, xl_avg_price: float, exec_avg_price: float, lux_avg_price: float]"
            ]
          },
          "metadata": {},
          "execution_count": 43
        }
      ],
      "source": [
        "uber_hotels_df"
      ]
    },
    {
      "cell_type": "markdown",
      "metadata": {
        "id": "rXlB_SOKdWkg"
      },
      "source": [
        "# Convert to Parquet\n",
        "Convert to a Parquet file below"
      ]
    },
    {
      "cell_type": "code",
      "execution_count": 44,
      "metadata": {
        "scrolled": false,
        "id": "oC9gbvQ2dWkg"
      },
      "outputs": [],
      "source": [
        "#use the existing uber_df_final to save data to parquet \n",
        "uber_df_final.write.mode(\"overwrite\").format(\"parquet\").save(\"uber.parquet\")\n",
        "uber_parquet=spark.read.parquet(\"uber.parquet\")\n",
        "\n",
        "# make a view\n",
        "uber_parquet.createOrReplaceTempView(\"uber_parquet\")"
      ]
    },
    {
      "cell_type": "markdown",
      "metadata": {
        "id": "gVB9jDerdWkg"
      },
      "source": [
        "## Example Query 1: \n",
        "Average uber price for rides starting at Waterloo Station"
      ]
    },
    {
      "cell_type": "code",
      "execution_count": 45,
      "metadata": {
        "scrolled": true,
        "colab": {
          "base_uri": "https://localhost:8080/"
        },
        "id": "bc_57kFNdWkg",
        "outputId": "012eecb4-817b-474e-d980-8c5bcedb6deb"
      },
      "outputs": [
        {
          "output_type": "stream",
          "name": "stdout",
          "text": [
            "+------------------+-------------+\n",
            "|train_station_name|average_price|\n",
            "+------------------+-------------+\n",
            "|  Waterloo Station|         14.4|\n",
            "+------------------+-------------+\n",
            "\n"
          ]
        }
      ],
      "source": [
        "uber_hotels_df.createOrReplaceTempView(\"uber\")\n",
        "start_time6=time()\n",
        "average_price_query = \"\"\"\n",
        "SELECT\n",
        "    train_station_name,\n",
        "    AVG(\n",
        "        COALESCE(\n",
        "            extract_average_price_udf(green),\n",
        "            extract_average_price_udf(x),\n",
        "            extract_average_price_udf(assist),\n",
        "            extract_average_price_udf(access),\n",
        "            extract_average_price_udf(pet),\n",
        "            extract_average_price_udf(comfort),\n",
        "            extract_average_price_udf(xl),\n",
        "            extract_average_price_udf(exec),\n",
        "            extract_average_price_udf(lux)\n",
        "        )\n",
        "    ) as average_price\n",
        "FROM\n",
        "    uber\n",
        "WHERE\n",
        "    train_station_name = 'Waterloo Station'\n",
        "GROUP BY\n",
        "    train_station_name\n",
        "\"\"\"\n",
        "end_time6=time()\n",
        "\n",
        "waterloo_avg_price = spark.sql(average_price_query)\n",
        "waterloo_avg_price.show()"
      ]
    },
    {
      "cell_type": "code",
      "execution_count": 46,
      "metadata": {
        "colab": {
          "base_uri": "https://localhost:8080/"
        },
        "id": "OfZfLRr7dWkg",
        "outputId": "36bc78ad-0e01-431b-aba3-eb5049429850"
      },
      "outputs": [
        {
          "output_type": "stream",
          "name": "stdout",
          "text": [
            "Time spent to query table in PostgreSQL:  8.392333984375e-05\n"
          ]
        }
      ],
      "source": [
        "print(\"Time spent to query table in PostgreSQL: \",end_time6 - start_time6)"
      ]
    },
    {
      "cell_type": "code",
      "execution_count": 47,
      "metadata": {
        "id": "CwstEOZKdWkg"
      },
      "outputs": [],
      "source": [
        "start_time7=time()\n",
        "Waterloo_Station = spark.sql(average_price_query)\n",
        "end_time7=time()"
      ]
    },
    {
      "cell_type": "code",
      "execution_count": 48,
      "metadata": {
        "colab": {
          "base_uri": "https://localhost:8080/"
        },
        "id": "4uqhTruDdWkg",
        "outputId": "90b50bd8-6c11-4e3a-c0e0-09dad118c236"
      },
      "outputs": [
        {
          "output_type": "stream",
          "name": "stdout",
          "text": [
            "Time spent to query table in Parquet:  0.060457468032836914\n"
          ]
        }
      ],
      "source": [
        "print(\"Time spent to query table in Parquet: \",end_time7 - start_time7)"
      ]
    },
    {
      "cell_type": "markdown",
      "metadata": {
        "id": "-49Qt2ppdWkh"
      },
      "source": [
        "## Example Query 2: \n",
        "Show 10 journeys starting from London Waterloo"
      ]
    },
    {
      "cell_type": "code",
      "execution_count": 49,
      "metadata": {
        "id": "_umUNjx-dWkh"
      },
      "outputs": [],
      "source": [
        "start_time=time()\n",
        "Waterloo_Station = spark.sql(\"SELECT * FROM uber where train_station_name=='Waterloo Station' LIMIT 10\")\n",
        "end_time=time()"
      ]
    },
    {
      "cell_type": "code",
      "execution_count": 50,
      "metadata": {
        "colab": {
          "base_uri": "https://localhost:8080/"
        },
        "id": "aetcEoV-dWkh",
        "outputId": "c6d98bd5-1dc2-4622-9dba-21ad9e742176"
      },
      "outputs": [
        {
          "output_type": "stream",
          "name": "stdout",
          "text": [
            "Time spent to query table in PostgreSQL:  0.04909324645996094\n"
          ]
        }
      ],
      "source": [
        "print(\"Time spent to query table in PostgreSQL: \",end_time - start_time)"
      ]
    },
    {
      "cell_type": "code",
      "execution_count": 51,
      "metadata": {
        "id": "UpKgluNMdWkh"
      },
      "outputs": [],
      "source": [
        "start_time3=time()\n",
        "Waterloo_Station = spark.sql(\"SELECT * FROM uber_parquet where train_station_name=='Waterloo Station' LIMIT 10\")\n",
        "end_time3=time()"
      ]
    },
    {
      "cell_type": "code",
      "execution_count": 52,
      "metadata": {
        "colab": {
          "base_uri": "https://localhost:8080/"
        },
        "id": "cfmK7V7_dWkh",
        "outputId": "b6effd39-935d-4ae2-960f-e4b93a5c11cb"
      },
      "outputs": [
        {
          "output_type": "stream",
          "name": "stdout",
          "text": [
            "Time spent to query table in Parquet:  0.0355222225189209\n"
          ]
        }
      ],
      "source": [
        "print(\"Time spent to query table in Parquet: \",end_time3 - start_time3)"
      ]
    },
    {
      "cell_type": "markdown",
      "metadata": {
        "id": "N79J7c6pdWkh"
      },
      "source": [
        "## Example Query 3: \n",
        "What is the average price of certain Uber Green rides"
      ]
    },
    {
      "cell_type": "code",
      "execution_count": 53,
      "metadata": {
        "colab": {
          "base_uri": "https://localhost:8080/"
        },
        "id": "I-snXp3mdWkh",
        "outputId": "8e59038f-400c-4402-8081-aa872b6f137f"
      },
      "outputs": [
        {
          "output_type": "stream",
          "name": "stdout",
          "text": [
            "+--------------+---------------+\n",
            "|         green|green_avg_price|\n",
            "+--------------+---------------+\n",
            "|          null|           null|\n",
            "|{UberX,£13-15}|           14.0|\n",
            "|{UberX,£16-17}|           16.5|\n",
            "|{UberX,£12-13}|           12.5|\n",
            "+--------------+---------------+\n",
            "\n"
          ]
        }
      ],
      "source": [
        "start_time2=time()\n",
        "spark.sql(\"SELECT green, AVG(green_avg_price) AS green_avg_price FROM uber GROUP BY green\").show()\n",
        "end_time2=time()"
      ]
    },
    {
      "cell_type": "code",
      "execution_count": 54,
      "metadata": {
        "colab": {
          "base_uri": "https://localhost:8080/"
        },
        "id": "kiG1tX5TdWkh",
        "outputId": "626047ec-193a-41ce-9c59-940b76d64cc8"
      },
      "outputs": [
        {
          "output_type": "stream",
          "name": "stdout",
          "text": [
            "Time spent to query table in PostgreSQL:  1.8801546096801758\n"
          ]
        }
      ],
      "source": [
        "print(\"Time spent to query table in PostgreSQL: \",end_time2 - start_time2)"
      ]
    },
    {
      "cell_type": "markdown",
      "metadata": {
        "id": "d_8jaS_udWkh"
      },
      "source": [
        "# Metric Comparison"
      ]
    },
    {
      "cell_type": "markdown",
      "metadata": {
        "id": "98C8qEOGdWkh"
      },
      "source": [
        "We can see from the above metrics that Parquet is significantly faster than SparkSQL"
      ]
    },
    {
      "cell_type": "markdown",
      "metadata": {
        "id": "53y26-l1dWkh"
      },
      "source": [
        "# Show in Pandas\n",
        "To complete the process and to show the data is ready for machine larning we will present in Pandas below"
      ]
    },
    {
      "cell_type": "code",
      "execution_count": 55,
      "metadata": {
        "scrolled": true,
        "colab": {
          "base_uri": "https://localhost:8080/",
          "height": 1000
        },
        "id": "HGwW2Zn_dWkh",
        "outputId": "512fb656-9ced-4f97-f102-7b9cda39adb4"
      },
      "outputs": [
        {
          "output_type": "execute_result",
          "data": {
            "text/plain": [
              "                x           green         assist           access  \\\n",
              "0    {Lux,£33-37}  {UberX,£13-15}  {Exec,£23-25}  {UberXL,£20-22}   \n",
              "1    {Lux,£34-37}  {UberX,£13-15}  {Exec,£23-25}  {UberXL,£20-22}   \n",
              "2    {Lux,£31-34}  {UberX,£12-13}  {Exec,£21-23}  {UberXL,£18-20}   \n",
              "3    {Lux,£31-34}  {UberX,£12-13}  {Exec,£21-23}  {UberXL,£18-20}   \n",
              "4    {Lux,£30-33}  {UberX,£12-13}  {Exec,£21-23}  {UberXL,£18-20}   \n",
              "..            ...             ...            ...              ...   \n",
              "187  {Lux,£33-37}  {UberX,£13-15}  {Exec,£23-25}  {UberXL,£20-21}   \n",
              "188  {Lux,£34-38}  {UberX,£13-15}  {Exec,£23-26}  {UberXL,£20-22}   \n",
              "189  {Lux,£34-38}  {UberX,£13-15}  {Exec,£23-26}  {UberXL,£20-22}   \n",
              "190  {Lux,£34-37}  {UberX,£13-15}  {Exec,£23-25}  {UberXL,£20-22}   \n",
              "191  {Lux,£31-34}  {UberX,£12-13}  {Exec,£21-23}  {UberXL,£18-20}   \n",
              "\n",
              "                 pet          comfort                xl            exec  \\\n",
              "0    {Assist,£13-15}  {Access,£13-15}  {Comfort,£16-18}  {Green,£13-15}   \n",
              "1    {Assist,£13-15}  {Access,£13-15}  {Comfort,£17-18}  {Green,£13-15}   \n",
              "2    {Assist,£12-13}  {Access,£12-13}  {Comfort,£15-17}  {Green,£12-13}   \n",
              "3    {Assist,£12-13}  {Access,£12-13}  {Comfort,£15-17}  {Green,£12-13}   \n",
              "4    {Assist,£12-13}  {Access,£12-13}  {Comfort,£15-16}  {Green,£12-13}   \n",
              "..               ...              ...               ...             ...   \n",
              "187  {Assist,£13-15}  {Access,£13-15}  {Comfort,£16-18}  {Green,£13-15}   \n",
              "188  {Assist,£13-15}  {Access,£13-15}  {Comfort,£17-18}  {Green,£13-15}   \n",
              "189  {Assist,£13-15}  {Access,£13-15}  {Comfort,£17-18}  {Green,£13-15}   \n",
              "190  {Assist,£13-15}  {Access,£13-15}  {Comfort,£17-18}  {Green,£13-15}   \n",
              "191  {Assist,£12-13}  {Access,£12-13}  {Comfort,£15-17}  {Green,£12-13}   \n",
              "\n",
              "                     lux          time_stamp  ...  neighbourhood  \\\n",
              "0    {\"Uber Pet\",£18-20} 2023-03-22 15:14:21  ...            Kew   \n",
              "1    {\"Uber Pet\",£18-20} 2023-03-22 10:48:26  ...            Kew   \n",
              "2    {\"Uber Pet\",£17-19} 2023-03-22 14:50:06  ...            Kew   \n",
              "3    {\"Uber Pet\",£17-19} 2023-03-22 14:49:02  ...            Kew   \n",
              "4    {\"Uber Pet\",£17-19} 2023-03-22 14:57:00  ...            Kew   \n",
              "..                   ...                 ...  ...            ...   \n",
              "187  {\"Uber Pet\",£18-20} 2023-03-19 15:08:11  ...            Kew   \n",
              "188  {\"Uber Pet\",£18-20} 2023-03-22 14:57:00  ...            Kew   \n",
              "189  {\"Uber Pet\",£18-20} 2023-03-19 15:13:04  ...            Kew   \n",
              "190  {\"Uber Pet\",£18-20} 2023-03-19 15:13:04  ...            Kew   \n",
              "191  {\"Uber Pet\",£17-19} 2023-03-22 15:13:17  ...            Kew   \n",
              "\n",
              "     green_avg_price  x_avg_price assist_avg_price  access_avg_price  \\\n",
              "0               14.0         35.0             24.0              21.0   \n",
              "1               14.0         35.5             24.0              21.0   \n",
              "2               12.5         32.5             22.0              19.0   \n",
              "3               12.5         32.5             22.0              19.0   \n",
              "4               12.5         31.5             22.0              19.0   \n",
              "..               ...          ...              ...               ...   \n",
              "187             14.0         35.0             24.0              20.5   \n",
              "188             14.0         36.0             24.5              21.0   \n",
              "189             14.0         36.0             24.5              21.0   \n",
              "190             14.0         35.5             24.0              21.0   \n",
              "191             12.5         32.5             22.0              19.0   \n",
              "\n",
              "     pet_avg_price  comfort_avg_price  xl_avg_price  exec_avg_price  \\\n",
              "0             14.0               14.0          17.0            14.0   \n",
              "1             14.0               14.0          17.5            14.0   \n",
              "2             12.5               12.5          16.0            12.5   \n",
              "3             12.5               12.5          16.0            12.5   \n",
              "4             12.5               12.5          15.5            12.5   \n",
              "..             ...                ...           ...             ...   \n",
              "187           14.0               14.0          17.0            14.0   \n",
              "188           14.0               14.0          17.5            14.0   \n",
              "189           14.0               14.0          17.5            14.0   \n",
              "190           14.0               14.0          17.5            14.0   \n",
              "191           12.5               12.5          16.0            12.5   \n",
              "\n",
              "     lux_avg_price  \n",
              "0             19.0  \n",
              "1             19.0  \n",
              "2             18.0  \n",
              "3             18.0  \n",
              "4             18.0  \n",
              "..             ...  \n",
              "187           19.0  \n",
              "188           19.0  \n",
              "189           19.0  \n",
              "190           19.0  \n",
              "191           18.0  \n",
              "\n",
              "[192 rows x 31 columns]"
            ],
            "text/html": [
              "\n",
              "  <div id=\"df-80c3c7dc-0adc-4851-81b4-4b51ab1e3649\">\n",
              "    <div class=\"colab-df-container\">\n",
              "      <div>\n",
              "<style scoped>\n",
              "    .dataframe tbody tr th:only-of-type {\n",
              "        vertical-align: middle;\n",
              "    }\n",
              "\n",
              "    .dataframe tbody tr th {\n",
              "        vertical-align: top;\n",
              "    }\n",
              "\n",
              "    .dataframe thead th {\n",
              "        text-align: right;\n",
              "    }\n",
              "</style>\n",
              "<table border=\"1\" class=\"dataframe\">\n",
              "  <thead>\n",
              "    <tr style=\"text-align: right;\">\n",
              "      <th></th>\n",
              "      <th>x</th>\n",
              "      <th>green</th>\n",
              "      <th>assist</th>\n",
              "      <th>access</th>\n",
              "      <th>pet</th>\n",
              "      <th>comfort</th>\n",
              "      <th>xl</th>\n",
              "      <th>exec</th>\n",
              "      <th>lux</th>\n",
              "      <th>time_stamp</th>\n",
              "      <th>...</th>\n",
              "      <th>neighbourhood</th>\n",
              "      <th>green_avg_price</th>\n",
              "      <th>x_avg_price</th>\n",
              "      <th>assist_avg_price</th>\n",
              "      <th>access_avg_price</th>\n",
              "      <th>pet_avg_price</th>\n",
              "      <th>comfort_avg_price</th>\n",
              "      <th>xl_avg_price</th>\n",
              "      <th>exec_avg_price</th>\n",
              "      <th>lux_avg_price</th>\n",
              "    </tr>\n",
              "  </thead>\n",
              "  <tbody>\n",
              "    <tr>\n",
              "      <th>0</th>\n",
              "      <td>{Lux,£33-37}</td>\n",
              "      <td>{UberX,£13-15}</td>\n",
              "      <td>{Exec,£23-25}</td>\n",
              "      <td>{UberXL,£20-22}</td>\n",
              "      <td>{Assist,£13-15}</td>\n",
              "      <td>{Access,£13-15}</td>\n",
              "      <td>{Comfort,£16-18}</td>\n",
              "      <td>{Green,£13-15}</td>\n",
              "      <td>{\"Uber Pet\",£18-20}</td>\n",
              "      <td>2023-03-22 15:14:21</td>\n",
              "      <td>...</td>\n",
              "      <td>Kew</td>\n",
              "      <td>14.0</td>\n",
              "      <td>35.0</td>\n",
              "      <td>24.0</td>\n",
              "      <td>21.0</td>\n",
              "      <td>14.0</td>\n",
              "      <td>14.0</td>\n",
              "      <td>17.0</td>\n",
              "      <td>14.0</td>\n",
              "      <td>19.0</td>\n",
              "    </tr>\n",
              "    <tr>\n",
              "      <th>1</th>\n",
              "      <td>{Lux,£34-37}</td>\n",
              "      <td>{UberX,£13-15}</td>\n",
              "      <td>{Exec,£23-25}</td>\n",
              "      <td>{UberXL,£20-22}</td>\n",
              "      <td>{Assist,£13-15}</td>\n",
              "      <td>{Access,£13-15}</td>\n",
              "      <td>{Comfort,£17-18}</td>\n",
              "      <td>{Green,£13-15}</td>\n",
              "      <td>{\"Uber Pet\",£18-20}</td>\n",
              "      <td>2023-03-22 10:48:26</td>\n",
              "      <td>...</td>\n",
              "      <td>Kew</td>\n",
              "      <td>14.0</td>\n",
              "      <td>35.5</td>\n",
              "      <td>24.0</td>\n",
              "      <td>21.0</td>\n",
              "      <td>14.0</td>\n",
              "      <td>14.0</td>\n",
              "      <td>17.5</td>\n",
              "      <td>14.0</td>\n",
              "      <td>19.0</td>\n",
              "    </tr>\n",
              "    <tr>\n",
              "      <th>2</th>\n",
              "      <td>{Lux,£31-34}</td>\n",
              "      <td>{UberX,£12-13}</td>\n",
              "      <td>{Exec,£21-23}</td>\n",
              "      <td>{UberXL,£18-20}</td>\n",
              "      <td>{Assist,£12-13}</td>\n",
              "      <td>{Access,£12-13}</td>\n",
              "      <td>{Comfort,£15-17}</td>\n",
              "      <td>{Green,£12-13}</td>\n",
              "      <td>{\"Uber Pet\",£17-19}</td>\n",
              "      <td>2023-03-22 14:50:06</td>\n",
              "      <td>...</td>\n",
              "      <td>Kew</td>\n",
              "      <td>12.5</td>\n",
              "      <td>32.5</td>\n",
              "      <td>22.0</td>\n",
              "      <td>19.0</td>\n",
              "      <td>12.5</td>\n",
              "      <td>12.5</td>\n",
              "      <td>16.0</td>\n",
              "      <td>12.5</td>\n",
              "      <td>18.0</td>\n",
              "    </tr>\n",
              "    <tr>\n",
              "      <th>3</th>\n",
              "      <td>{Lux,£31-34}</td>\n",
              "      <td>{UberX,£12-13}</td>\n",
              "      <td>{Exec,£21-23}</td>\n",
              "      <td>{UberXL,£18-20}</td>\n",
              "      <td>{Assist,£12-13}</td>\n",
              "      <td>{Access,£12-13}</td>\n",
              "      <td>{Comfort,£15-17}</td>\n",
              "      <td>{Green,£12-13}</td>\n",
              "      <td>{\"Uber Pet\",£17-19}</td>\n",
              "      <td>2023-03-22 14:49:02</td>\n",
              "      <td>...</td>\n",
              "      <td>Kew</td>\n",
              "      <td>12.5</td>\n",
              "      <td>32.5</td>\n",
              "      <td>22.0</td>\n",
              "      <td>19.0</td>\n",
              "      <td>12.5</td>\n",
              "      <td>12.5</td>\n",
              "      <td>16.0</td>\n",
              "      <td>12.5</td>\n",
              "      <td>18.0</td>\n",
              "    </tr>\n",
              "    <tr>\n",
              "      <th>4</th>\n",
              "      <td>{Lux,£30-33}</td>\n",
              "      <td>{UberX,£12-13}</td>\n",
              "      <td>{Exec,£21-23}</td>\n",
              "      <td>{UberXL,£18-20}</td>\n",
              "      <td>{Assist,£12-13}</td>\n",
              "      <td>{Access,£12-13}</td>\n",
              "      <td>{Comfort,£15-16}</td>\n",
              "      <td>{Green,£12-13}</td>\n",
              "      <td>{\"Uber Pet\",£17-19}</td>\n",
              "      <td>2023-03-22 14:57:00</td>\n",
              "      <td>...</td>\n",
              "      <td>Kew</td>\n",
              "      <td>12.5</td>\n",
              "      <td>31.5</td>\n",
              "      <td>22.0</td>\n",
              "      <td>19.0</td>\n",
              "      <td>12.5</td>\n",
              "      <td>12.5</td>\n",
              "      <td>15.5</td>\n",
              "      <td>12.5</td>\n",
              "      <td>18.0</td>\n",
              "    </tr>\n",
              "    <tr>\n",
              "      <th>...</th>\n",
              "      <td>...</td>\n",
              "      <td>...</td>\n",
              "      <td>...</td>\n",
              "      <td>...</td>\n",
              "      <td>...</td>\n",
              "      <td>...</td>\n",
              "      <td>...</td>\n",
              "      <td>...</td>\n",
              "      <td>...</td>\n",
              "      <td>...</td>\n",
              "      <td>...</td>\n",
              "      <td>...</td>\n",
              "      <td>...</td>\n",
              "      <td>...</td>\n",
              "      <td>...</td>\n",
              "      <td>...</td>\n",
              "      <td>...</td>\n",
              "      <td>...</td>\n",
              "      <td>...</td>\n",
              "      <td>...</td>\n",
              "      <td>...</td>\n",
              "    </tr>\n",
              "    <tr>\n",
              "      <th>187</th>\n",
              "      <td>{Lux,£33-37}</td>\n",
              "      <td>{UberX,£13-15}</td>\n",
              "      <td>{Exec,£23-25}</td>\n",
              "      <td>{UberXL,£20-21}</td>\n",
              "      <td>{Assist,£13-15}</td>\n",
              "      <td>{Access,£13-15}</td>\n",
              "      <td>{Comfort,£16-18}</td>\n",
              "      <td>{Green,£13-15}</td>\n",
              "      <td>{\"Uber Pet\",£18-20}</td>\n",
              "      <td>2023-03-19 15:08:11</td>\n",
              "      <td>...</td>\n",
              "      <td>Kew</td>\n",
              "      <td>14.0</td>\n",
              "      <td>35.0</td>\n",
              "      <td>24.0</td>\n",
              "      <td>20.5</td>\n",
              "      <td>14.0</td>\n",
              "      <td>14.0</td>\n",
              "      <td>17.0</td>\n",
              "      <td>14.0</td>\n",
              "      <td>19.0</td>\n",
              "    </tr>\n",
              "    <tr>\n",
              "      <th>188</th>\n",
              "      <td>{Lux,£34-38}</td>\n",
              "      <td>{UberX,£13-15}</td>\n",
              "      <td>{Exec,£23-26}</td>\n",
              "      <td>{UberXL,£20-22}</td>\n",
              "      <td>{Assist,£13-15}</td>\n",
              "      <td>{Access,£13-15}</td>\n",
              "      <td>{Comfort,£17-18}</td>\n",
              "      <td>{Green,£13-15}</td>\n",
              "      <td>{\"Uber Pet\",£18-20}</td>\n",
              "      <td>2023-03-22 14:57:00</td>\n",
              "      <td>...</td>\n",
              "      <td>Kew</td>\n",
              "      <td>14.0</td>\n",
              "      <td>36.0</td>\n",
              "      <td>24.5</td>\n",
              "      <td>21.0</td>\n",
              "      <td>14.0</td>\n",
              "      <td>14.0</td>\n",
              "      <td>17.5</td>\n",
              "      <td>14.0</td>\n",
              "      <td>19.0</td>\n",
              "    </tr>\n",
              "    <tr>\n",
              "      <th>189</th>\n",
              "      <td>{Lux,£34-38}</td>\n",
              "      <td>{UberX,£13-15}</td>\n",
              "      <td>{Exec,£23-26}</td>\n",
              "      <td>{UberXL,£20-22}</td>\n",
              "      <td>{Assist,£13-15}</td>\n",
              "      <td>{Access,£13-15}</td>\n",
              "      <td>{Comfort,£17-18}</td>\n",
              "      <td>{Green,£13-15}</td>\n",
              "      <td>{\"Uber Pet\",£18-20}</td>\n",
              "      <td>2023-03-19 15:13:04</td>\n",
              "      <td>...</td>\n",
              "      <td>Kew</td>\n",
              "      <td>14.0</td>\n",
              "      <td>36.0</td>\n",
              "      <td>24.5</td>\n",
              "      <td>21.0</td>\n",
              "      <td>14.0</td>\n",
              "      <td>14.0</td>\n",
              "      <td>17.5</td>\n",
              "      <td>14.0</td>\n",
              "      <td>19.0</td>\n",
              "    </tr>\n",
              "    <tr>\n",
              "      <th>190</th>\n",
              "      <td>{Lux,£34-37}</td>\n",
              "      <td>{UberX,£13-15}</td>\n",
              "      <td>{Exec,£23-25}</td>\n",
              "      <td>{UberXL,£20-22}</td>\n",
              "      <td>{Assist,£13-15}</td>\n",
              "      <td>{Access,£13-15}</td>\n",
              "      <td>{Comfort,£17-18}</td>\n",
              "      <td>{Green,£13-15}</td>\n",
              "      <td>{\"Uber Pet\",£18-20}</td>\n",
              "      <td>2023-03-19 15:13:04</td>\n",
              "      <td>...</td>\n",
              "      <td>Kew</td>\n",
              "      <td>14.0</td>\n",
              "      <td>35.5</td>\n",
              "      <td>24.0</td>\n",
              "      <td>21.0</td>\n",
              "      <td>14.0</td>\n",
              "      <td>14.0</td>\n",
              "      <td>17.5</td>\n",
              "      <td>14.0</td>\n",
              "      <td>19.0</td>\n",
              "    </tr>\n",
              "    <tr>\n",
              "      <th>191</th>\n",
              "      <td>{Lux,£31-34}</td>\n",
              "      <td>{UberX,£12-13}</td>\n",
              "      <td>{Exec,£21-23}</td>\n",
              "      <td>{UberXL,£18-20}</td>\n",
              "      <td>{Assist,£12-13}</td>\n",
              "      <td>{Access,£12-13}</td>\n",
              "      <td>{Comfort,£15-17}</td>\n",
              "      <td>{Green,£12-13}</td>\n",
              "      <td>{\"Uber Pet\",£17-19}</td>\n",
              "      <td>2023-03-22 15:13:17</td>\n",
              "      <td>...</td>\n",
              "      <td>Kew</td>\n",
              "      <td>12.5</td>\n",
              "      <td>32.5</td>\n",
              "      <td>22.0</td>\n",
              "      <td>19.0</td>\n",
              "      <td>12.5</td>\n",
              "      <td>12.5</td>\n",
              "      <td>16.0</td>\n",
              "      <td>12.5</td>\n",
              "      <td>18.0</td>\n",
              "    </tr>\n",
              "  </tbody>\n",
              "</table>\n",
              "<p>192 rows × 31 columns</p>\n",
              "</div>\n",
              "      <button class=\"colab-df-convert\" onclick=\"convertToInteractive('df-80c3c7dc-0adc-4851-81b4-4b51ab1e3649')\"\n",
              "              title=\"Convert this dataframe to an interactive table.\"\n",
              "              style=\"display:none;\">\n",
              "        \n",
              "  <svg xmlns=\"http://www.w3.org/2000/svg\" height=\"24px\"viewBox=\"0 0 24 24\"\n",
              "       width=\"24px\">\n",
              "    <path d=\"M0 0h24v24H0V0z\" fill=\"none\"/>\n",
              "    <path d=\"M18.56 5.44l.94 2.06.94-2.06 2.06-.94-2.06-.94-.94-2.06-.94 2.06-2.06.94zm-11 1L8.5 8.5l.94-2.06 2.06-.94-2.06-.94L8.5 2.5l-.94 2.06-2.06.94zm10 10l.94 2.06.94-2.06 2.06-.94-2.06-.94-.94-2.06-.94 2.06-2.06.94z\"/><path d=\"M17.41 7.96l-1.37-1.37c-.4-.4-.92-.59-1.43-.59-.52 0-1.04.2-1.43.59L10.3 9.45l-7.72 7.72c-.78.78-.78 2.05 0 2.83L4 21.41c.39.39.9.59 1.41.59.51 0 1.02-.2 1.41-.59l7.78-7.78 2.81-2.81c.8-.78.8-2.07 0-2.86zM5.41 20L4 18.59l7.72-7.72 1.47 1.35L5.41 20z\"/>\n",
              "  </svg>\n",
              "      </button>\n",
              "      \n",
              "  <style>\n",
              "    .colab-df-container {\n",
              "      display:flex;\n",
              "      flex-wrap:wrap;\n",
              "      gap: 12px;\n",
              "    }\n",
              "\n",
              "    .colab-df-convert {\n",
              "      background-color: #E8F0FE;\n",
              "      border: none;\n",
              "      border-radius: 50%;\n",
              "      cursor: pointer;\n",
              "      display: none;\n",
              "      fill: #1967D2;\n",
              "      height: 32px;\n",
              "      padding: 0 0 0 0;\n",
              "      width: 32px;\n",
              "    }\n",
              "\n",
              "    .colab-df-convert:hover {\n",
              "      background-color: #E2EBFA;\n",
              "      box-shadow: 0px 1px 2px rgba(60, 64, 67, 0.3), 0px 1px 3px 1px rgba(60, 64, 67, 0.15);\n",
              "      fill: #174EA6;\n",
              "    }\n",
              "\n",
              "    [theme=dark] .colab-df-convert {\n",
              "      background-color: #3B4455;\n",
              "      fill: #D2E3FC;\n",
              "    }\n",
              "\n",
              "    [theme=dark] .colab-df-convert:hover {\n",
              "      background-color: #434B5C;\n",
              "      box-shadow: 0px 1px 3px 1px rgba(0, 0, 0, 0.15);\n",
              "      filter: drop-shadow(0px 1px 2px rgba(0, 0, 0, 0.3));\n",
              "      fill: #FFFFFF;\n",
              "    }\n",
              "  </style>\n",
              "\n",
              "      <script>\n",
              "        const buttonEl =\n",
              "          document.querySelector('#df-80c3c7dc-0adc-4851-81b4-4b51ab1e3649 button.colab-df-convert');\n",
              "        buttonEl.style.display =\n",
              "          google.colab.kernel.accessAllowed ? 'block' : 'none';\n",
              "\n",
              "        async function convertToInteractive(key) {\n",
              "          const element = document.querySelector('#df-80c3c7dc-0adc-4851-81b4-4b51ab1e3649');\n",
              "          const dataTable =\n",
              "            await google.colab.kernel.invokeFunction('convertToInteractive',\n",
              "                                                     [key], {});\n",
              "          if (!dataTable) return;\n",
              "\n",
              "          const docLinkHtml = 'Like what you see? Visit the ' +\n",
              "            '<a target=\"_blank\" href=https://colab.research.google.com/notebooks/data_table.ipynb>data table notebook</a>'\n",
              "            + ' to learn more about interactive tables.';\n",
              "          element.innerHTML = '';\n",
              "          dataTable['output_type'] = 'display_data';\n",
              "          await google.colab.output.renderOutput(dataTable, element);\n",
              "          const docLink = document.createElement('div');\n",
              "          docLink.innerHTML = docLinkHtml;\n",
              "          element.appendChild(docLink);\n",
              "        }\n",
              "      </script>\n",
              "    </div>\n",
              "  </div>\n",
              "  "
            ]
          },
          "metadata": {},
          "execution_count": 55
        }
      ],
      "source": [
        "uber_hotels_pd_new"
      ]
    },
    {
      "cell_type": "markdown",
      "metadata": {
        "id": "uKOaCZ9hdWki"
      },
      "source": [
        "The data has now been through the entire pipeline and is ready for machine learning"
      ]
    }
  ],
  "metadata": {
    "kernelspec": {
      "display_name": "Python [conda env:Python3] *",
      "language": "python",
      "name": "conda-env-Python3-py"
    },
    "language_info": {
      "codemirror_mode": {
        "name": "ipython",
        "version": 3
      },
      "file_extension": ".py",
      "mimetype": "text/x-python",
      "name": "python",
      "nbconvert_exporter": "python",
      "pygments_lexer": "ipython3",
      "version": "3.9.15"
    },
    "colab": {
      "provenance": []
    }
  },
  "nbformat": 4,
  "nbformat_minor": 0
}